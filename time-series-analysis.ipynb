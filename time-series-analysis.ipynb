{
 "cells": [
  {
   "cell_type": "code",
   "execution_count": 1,
   "metadata": {
    "execution": {
     "iopub.execute_input": "2021-11-01T20:58:00.033956Z",
     "iopub.status.busy": "2021-11-01T20:58:00.033062Z",
     "iopub.status.idle": "2021-11-01T20:58:00.277218Z",
     "shell.execute_reply": "2021-11-01T20:58:00.276461Z",
     "shell.execute_reply.started": "2021-11-01T20:58:00.033837Z"
    }
   },
   "outputs": [],
   "source": [
    "import pandas as pd \n",
    "import numpy as np \n",
    "import matplotlib.pyplot as plt \n",
    "from fbprophet import Prophet \n",
    "import warnings \n",
    "warnings.filterwarnings('ignore')\n",
    "import gc "
   ]
  },
  {
   "cell_type": "code",
   "execution_count": 2,
   "metadata": {
    "execution": {
     "iopub.execute_input": "2021-11-01T20:58:00.278969Z",
     "iopub.status.busy": "2021-11-01T20:58:00.278634Z",
     "iopub.status.idle": "2021-11-01T20:58:03.980524Z",
     "shell.execute_reply": "2021-11-01T20:58:03.979685Z",
     "shell.execute_reply.started": "2021-11-01T20:58:00.278931Z"
    }
   },
   "outputs": [],
   "source": [
    "# data source url 'https://archive.ics.uci.edu/ml/datasets/individual+household+electric+power+consumption'\n",
    "\n",
    "df = pd.read_csv('../input/individual-household-electric-power-consumption/household_power_consumption.txt', sep=';')"
   ]
  },
  {
   "cell_type": "code",
   "execution_count": 3,
   "metadata": {
    "execution": {
     "iopub.execute_input": "2021-11-01T20:58:03.982592Z",
     "iopub.status.busy": "2021-11-01T20:58:03.982308Z",
     "iopub.status.idle": "2021-11-01T20:58:04.009959Z",
     "shell.execute_reply": "2021-11-01T20:58:04.009022Z",
     "shell.execute_reply.started": "2021-11-01T20:58:03.982552Z"
    }
   },
   "outputs": [
    {
     "data": {
      "text/html": [
       "<div>\n",
       "<style scoped>\n",
       "    .dataframe tbody tr th:only-of-type {\n",
       "        vertical-align: middle;\n",
       "    }\n",
       "\n",
       "    .dataframe tbody tr th {\n",
       "        vertical-align: top;\n",
       "    }\n",
       "\n",
       "    .dataframe thead th {\n",
       "        text-align: right;\n",
       "    }\n",
       "</style>\n",
       "<table border=\"1\" class=\"dataframe\">\n",
       "  <thead>\n",
       "    <tr style=\"text-align: right;\">\n",
       "      <th></th>\n",
       "      <th>Date</th>\n",
       "      <th>Time</th>\n",
       "      <th>Global_active_power</th>\n",
       "      <th>Global_reactive_power</th>\n",
       "      <th>Voltage</th>\n",
       "      <th>Global_intensity</th>\n",
       "      <th>Sub_metering_1</th>\n",
       "      <th>Sub_metering_2</th>\n",
       "      <th>Sub_metering_3</th>\n",
       "    </tr>\n",
       "  </thead>\n",
       "  <tbody>\n",
       "    <tr>\n",
       "      <th>0</th>\n",
       "      <td>16/12/2006</td>\n",
       "      <td>17:24:00</td>\n",
       "      <td>4.216</td>\n",
       "      <td>0.418</td>\n",
       "      <td>234.840</td>\n",
       "      <td>18.400</td>\n",
       "      <td>0.000</td>\n",
       "      <td>1.000</td>\n",
       "      <td>17.0</td>\n",
       "    </tr>\n",
       "    <tr>\n",
       "      <th>1</th>\n",
       "      <td>16/12/2006</td>\n",
       "      <td>17:25:00</td>\n",
       "      <td>5.360</td>\n",
       "      <td>0.436</td>\n",
       "      <td>233.630</td>\n",
       "      <td>23.000</td>\n",
       "      <td>0.000</td>\n",
       "      <td>1.000</td>\n",
       "      <td>16.0</td>\n",
       "    </tr>\n",
       "    <tr>\n",
       "      <th>2</th>\n",
       "      <td>16/12/2006</td>\n",
       "      <td>17:26:00</td>\n",
       "      <td>5.374</td>\n",
       "      <td>0.498</td>\n",
       "      <td>233.290</td>\n",
       "      <td>23.000</td>\n",
       "      <td>0.000</td>\n",
       "      <td>2.000</td>\n",
       "      <td>17.0</td>\n",
       "    </tr>\n",
       "    <tr>\n",
       "      <th>3</th>\n",
       "      <td>16/12/2006</td>\n",
       "      <td>17:27:00</td>\n",
       "      <td>5.388</td>\n",
       "      <td>0.502</td>\n",
       "      <td>233.740</td>\n",
       "      <td>23.000</td>\n",
       "      <td>0.000</td>\n",
       "      <td>1.000</td>\n",
       "      <td>17.0</td>\n",
       "    </tr>\n",
       "    <tr>\n",
       "      <th>4</th>\n",
       "      <td>16/12/2006</td>\n",
       "      <td>17:28:00</td>\n",
       "      <td>3.666</td>\n",
       "      <td>0.528</td>\n",
       "      <td>235.680</td>\n",
       "      <td>15.800</td>\n",
       "      <td>0.000</td>\n",
       "      <td>1.000</td>\n",
       "      <td>17.0</td>\n",
       "    </tr>\n",
       "    <tr>\n",
       "      <th>5</th>\n",
       "      <td>16/12/2006</td>\n",
       "      <td>17:29:00</td>\n",
       "      <td>3.520</td>\n",
       "      <td>0.522</td>\n",
       "      <td>235.020</td>\n",
       "      <td>15.000</td>\n",
       "      <td>0.000</td>\n",
       "      <td>2.000</td>\n",
       "      <td>17.0</td>\n",
       "    </tr>\n",
       "    <tr>\n",
       "      <th>6</th>\n",
       "      <td>16/12/2006</td>\n",
       "      <td>17:30:00</td>\n",
       "      <td>3.702</td>\n",
       "      <td>0.520</td>\n",
       "      <td>235.090</td>\n",
       "      <td>15.800</td>\n",
       "      <td>0.000</td>\n",
       "      <td>1.000</td>\n",
       "      <td>17.0</td>\n",
       "    </tr>\n",
       "    <tr>\n",
       "      <th>7</th>\n",
       "      <td>16/12/2006</td>\n",
       "      <td>17:31:00</td>\n",
       "      <td>3.700</td>\n",
       "      <td>0.520</td>\n",
       "      <td>235.220</td>\n",
       "      <td>15.800</td>\n",
       "      <td>0.000</td>\n",
       "      <td>1.000</td>\n",
       "      <td>17.0</td>\n",
       "    </tr>\n",
       "    <tr>\n",
       "      <th>8</th>\n",
       "      <td>16/12/2006</td>\n",
       "      <td>17:32:00</td>\n",
       "      <td>3.668</td>\n",
       "      <td>0.510</td>\n",
       "      <td>233.990</td>\n",
       "      <td>15.800</td>\n",
       "      <td>0.000</td>\n",
       "      <td>1.000</td>\n",
       "      <td>17.0</td>\n",
       "    </tr>\n",
       "    <tr>\n",
       "      <th>9</th>\n",
       "      <td>16/12/2006</td>\n",
       "      <td>17:33:00</td>\n",
       "      <td>3.662</td>\n",
       "      <td>0.510</td>\n",
       "      <td>233.860</td>\n",
       "      <td>15.800</td>\n",
       "      <td>0.000</td>\n",
       "      <td>2.000</td>\n",
       "      <td>16.0</td>\n",
       "    </tr>\n",
       "  </tbody>\n",
       "</table>\n",
       "</div>"
      ],
      "text/plain": [
       "         Date      Time Global_active_power Global_reactive_power  Voltage  \\\n",
       "0  16/12/2006  17:24:00               4.216                 0.418  234.840   \n",
       "1  16/12/2006  17:25:00               5.360                 0.436  233.630   \n",
       "2  16/12/2006  17:26:00               5.374                 0.498  233.290   \n",
       "3  16/12/2006  17:27:00               5.388                 0.502  233.740   \n",
       "4  16/12/2006  17:28:00               3.666                 0.528  235.680   \n",
       "5  16/12/2006  17:29:00               3.520                 0.522  235.020   \n",
       "6  16/12/2006  17:30:00               3.702                 0.520  235.090   \n",
       "7  16/12/2006  17:31:00               3.700                 0.520  235.220   \n",
       "8  16/12/2006  17:32:00               3.668                 0.510  233.990   \n",
       "9  16/12/2006  17:33:00               3.662                 0.510  233.860   \n",
       "\n",
       "  Global_intensity Sub_metering_1 Sub_metering_2  Sub_metering_3  \n",
       "0           18.400          0.000          1.000            17.0  \n",
       "1           23.000          0.000          1.000            16.0  \n",
       "2           23.000          0.000          2.000            17.0  \n",
       "3           23.000          0.000          1.000            17.0  \n",
       "4           15.800          0.000          1.000            17.0  \n",
       "5           15.000          0.000          2.000            17.0  \n",
       "6           15.800          0.000          1.000            17.0  \n",
       "7           15.800          0.000          1.000            17.0  \n",
       "8           15.800          0.000          1.000            17.0  \n",
       "9           15.800          0.000          2.000            16.0  "
      ]
     },
     "execution_count": 3,
     "metadata": {},
     "output_type": "execute_result"
    }
   ],
   "source": [
    "df.head(10)"
   ]
  },
  {
   "cell_type": "code",
   "execution_count": 4,
   "metadata": {
    "execution": {
     "iopub.execute_input": "2021-11-01T20:58:04.011923Z",
     "iopub.status.busy": "2021-11-01T20:58:04.011530Z",
     "iopub.status.idle": "2021-11-01T20:58:04.036947Z",
     "shell.execute_reply": "2021-11-01T20:58:04.036015Z",
     "shell.execute_reply.started": "2021-11-01T20:58:04.011880Z"
    }
   },
   "outputs": [
    {
     "name": "stdout",
     "output_type": "stream",
     "text": [
      "<class 'pandas.core.frame.DataFrame'>\n",
      "RangeIndex: 2075259 entries, 0 to 2075258\n",
      "Data columns (total 9 columns):\n",
      " #   Column                 Dtype  \n",
      "---  ------                 -----  \n",
      " 0   Date                   object \n",
      " 1   Time                   object \n",
      " 2   Global_active_power    object \n",
      " 3   Global_reactive_power  object \n",
      " 4   Voltage                object \n",
      " 5   Global_intensity       object \n",
      " 6   Sub_metering_1         object \n",
      " 7   Sub_metering_2         object \n",
      " 8   Sub_metering_3         float64\n",
      "dtypes: float64(1), object(8)\n",
      "memory usage: 142.5+ MB\n"
     ]
    }
   ],
   "source": [
    "df.info()"
   ]
  },
  {
   "cell_type": "code",
   "execution_count": 5,
   "metadata": {
    "execution": {
     "iopub.execute_input": "2021-11-01T20:58:04.040588Z",
     "iopub.status.busy": "2021-11-01T20:58:04.039916Z",
     "iopub.status.idle": "2021-11-01T20:58:05.697587Z",
     "shell.execute_reply": "2021-11-01T20:58:05.696851Z",
     "shell.execute_reply.started": "2021-11-01T20:58:04.040539Z"
    }
   },
   "outputs": [
    {
     "data": {
      "text/plain": [
       "Date                         0\n",
       "Time                         0\n",
       "Global_active_power          0\n",
       "Global_reactive_power        0\n",
       "Voltage                      0\n",
       "Global_intensity             0\n",
       "Sub_metering_1               0\n",
       "Sub_metering_2               0\n",
       "Sub_metering_3           25979\n",
       "dtype: int64"
      ]
     },
     "execution_count": 5,
     "metadata": {},
     "output_type": "execute_result"
    }
   ],
   "source": [
    "df.isnull().sum()"
   ]
  },
  {
   "cell_type": "code",
   "execution_count": 6,
   "metadata": {
    "execution": {
     "iopub.execute_input": "2021-11-01T20:58:05.699292Z",
     "iopub.status.busy": "2021-11-01T20:58:05.698902Z",
     "iopub.status.idle": "2021-11-01T20:58:07.419635Z",
     "shell.execute_reply": "2021-11-01T20:58:07.418914Z",
     "shell.execute_reply.started": "2021-11-01T20:58:05.699255Z"
    }
   },
   "outputs": [
    {
     "data": {
      "text/plain": [
       "True"
      ]
     },
     "execution_count": 6,
     "metadata": {},
     "output_type": "execute_result"
    }
   ],
   "source": [
    "df.isnull().values.any()"
   ]
  },
  {
   "cell_type": "code",
   "execution_count": 7,
   "metadata": {
    "execution": {
     "iopub.execute_input": "2021-11-01T20:58:07.421215Z",
     "iopub.status.busy": "2021-11-01T20:58:07.420880Z",
     "iopub.status.idle": "2021-11-01T20:58:07.607004Z",
     "shell.execute_reply": "2021-11-01T20:58:07.606220Z",
     "shell.execute_reply.started": "2021-11-01T20:58:07.421177Z"
    }
   },
   "outputs": [],
   "source": [
    "df1 = df.copy()"
   ]
  },
  {
   "cell_type": "code",
   "execution_count": 8,
   "metadata": {
    "execution": {
     "iopub.execute_input": "2021-11-01T20:58:07.608615Z",
     "iopub.status.busy": "2021-11-01T20:58:07.608246Z",
     "iopub.status.idle": "2021-11-01T21:01:23.344519Z",
     "shell.execute_reply": "2021-11-01T21:01:23.343774Z",
     "shell.execute_reply.started": "2021-11-01T20:58:07.608576Z"
    }
   },
   "outputs": [],
   "source": [
    "df1['DateTime'] = pd.to_datetime(df1['Date'] + ' ' + df1['Time'])\n",
    "\n",
    "df1 = df1.set_index('DateTime')\n",
    "\n"
   ]
  },
  {
   "cell_type": "code",
   "execution_count": 9,
   "metadata": {
    "execution": {
     "iopub.execute_input": "2021-11-01T21:01:23.346138Z",
     "iopub.status.busy": "2021-11-01T21:01:23.345865Z",
     "iopub.status.idle": "2021-11-01T21:01:23.364829Z",
     "shell.execute_reply": "2021-11-01T21:01:23.364014Z",
     "shell.execute_reply.started": "2021-11-01T21:01:23.346103Z"
    }
   },
   "outputs": [
    {
     "data": {
      "text/html": [
       "<div>\n",
       "<style scoped>\n",
       "    .dataframe tbody tr th:only-of-type {\n",
       "        vertical-align: middle;\n",
       "    }\n",
       "\n",
       "    .dataframe tbody tr th {\n",
       "        vertical-align: top;\n",
       "    }\n",
       "\n",
       "    .dataframe thead th {\n",
       "        text-align: right;\n",
       "    }\n",
       "</style>\n",
       "<table border=\"1\" class=\"dataframe\">\n",
       "  <thead>\n",
       "    <tr style=\"text-align: right;\">\n",
       "      <th></th>\n",
       "      <th>Date</th>\n",
       "      <th>Time</th>\n",
       "      <th>Global_active_power</th>\n",
       "      <th>Global_reactive_power</th>\n",
       "      <th>Voltage</th>\n",
       "      <th>Global_intensity</th>\n",
       "      <th>Sub_metering_1</th>\n",
       "      <th>Sub_metering_2</th>\n",
       "      <th>Sub_metering_3</th>\n",
       "    </tr>\n",
       "    <tr>\n",
       "      <th>DateTime</th>\n",
       "      <th></th>\n",
       "      <th></th>\n",
       "      <th></th>\n",
       "      <th></th>\n",
       "      <th></th>\n",
       "      <th></th>\n",
       "      <th></th>\n",
       "      <th></th>\n",
       "      <th></th>\n",
       "    </tr>\n",
       "  </thead>\n",
       "  <tbody>\n",
       "    <tr>\n",
       "      <th>2006-12-16 17:24:00</th>\n",
       "      <td>16/12/2006</td>\n",
       "      <td>17:24:00</td>\n",
       "      <td>4.216</td>\n",
       "      <td>0.418</td>\n",
       "      <td>234.840</td>\n",
       "      <td>18.400</td>\n",
       "      <td>0.000</td>\n",
       "      <td>1.000</td>\n",
       "      <td>17.0</td>\n",
       "    </tr>\n",
       "    <tr>\n",
       "      <th>2006-12-16 17:25:00</th>\n",
       "      <td>16/12/2006</td>\n",
       "      <td>17:25:00</td>\n",
       "      <td>5.360</td>\n",
       "      <td>0.436</td>\n",
       "      <td>233.630</td>\n",
       "      <td>23.000</td>\n",
       "      <td>0.000</td>\n",
       "      <td>1.000</td>\n",
       "      <td>16.0</td>\n",
       "    </tr>\n",
       "    <tr>\n",
       "      <th>2006-12-16 17:26:00</th>\n",
       "      <td>16/12/2006</td>\n",
       "      <td>17:26:00</td>\n",
       "      <td>5.374</td>\n",
       "      <td>0.498</td>\n",
       "      <td>233.290</td>\n",
       "      <td>23.000</td>\n",
       "      <td>0.000</td>\n",
       "      <td>2.000</td>\n",
       "      <td>17.0</td>\n",
       "    </tr>\n",
       "    <tr>\n",
       "      <th>2006-12-16 17:27:00</th>\n",
       "      <td>16/12/2006</td>\n",
       "      <td>17:27:00</td>\n",
       "      <td>5.388</td>\n",
       "      <td>0.502</td>\n",
       "      <td>233.740</td>\n",
       "      <td>23.000</td>\n",
       "      <td>0.000</td>\n",
       "      <td>1.000</td>\n",
       "      <td>17.0</td>\n",
       "    </tr>\n",
       "    <tr>\n",
       "      <th>2006-12-16 17:28:00</th>\n",
       "      <td>16/12/2006</td>\n",
       "      <td>17:28:00</td>\n",
       "      <td>3.666</td>\n",
       "      <td>0.528</td>\n",
       "      <td>235.680</td>\n",
       "      <td>15.800</td>\n",
       "      <td>0.000</td>\n",
       "      <td>1.000</td>\n",
       "      <td>17.0</td>\n",
       "    </tr>\n",
       "    <tr>\n",
       "      <th>2006-12-16 17:29:00</th>\n",
       "      <td>16/12/2006</td>\n",
       "      <td>17:29:00</td>\n",
       "      <td>3.520</td>\n",
       "      <td>0.522</td>\n",
       "      <td>235.020</td>\n",
       "      <td>15.000</td>\n",
       "      <td>0.000</td>\n",
       "      <td>2.000</td>\n",
       "      <td>17.0</td>\n",
       "    </tr>\n",
       "    <tr>\n",
       "      <th>2006-12-16 17:30:00</th>\n",
       "      <td>16/12/2006</td>\n",
       "      <td>17:30:00</td>\n",
       "      <td>3.702</td>\n",
       "      <td>0.520</td>\n",
       "      <td>235.090</td>\n",
       "      <td>15.800</td>\n",
       "      <td>0.000</td>\n",
       "      <td>1.000</td>\n",
       "      <td>17.0</td>\n",
       "    </tr>\n",
       "    <tr>\n",
       "      <th>2006-12-16 17:31:00</th>\n",
       "      <td>16/12/2006</td>\n",
       "      <td>17:31:00</td>\n",
       "      <td>3.700</td>\n",
       "      <td>0.520</td>\n",
       "      <td>235.220</td>\n",
       "      <td>15.800</td>\n",
       "      <td>0.000</td>\n",
       "      <td>1.000</td>\n",
       "      <td>17.0</td>\n",
       "    </tr>\n",
       "    <tr>\n",
       "      <th>2006-12-16 17:32:00</th>\n",
       "      <td>16/12/2006</td>\n",
       "      <td>17:32:00</td>\n",
       "      <td>3.668</td>\n",
       "      <td>0.510</td>\n",
       "      <td>233.990</td>\n",
       "      <td>15.800</td>\n",
       "      <td>0.000</td>\n",
       "      <td>1.000</td>\n",
       "      <td>17.0</td>\n",
       "    </tr>\n",
       "    <tr>\n",
       "      <th>2006-12-16 17:33:00</th>\n",
       "      <td>16/12/2006</td>\n",
       "      <td>17:33:00</td>\n",
       "      <td>3.662</td>\n",
       "      <td>0.510</td>\n",
       "      <td>233.860</td>\n",
       "      <td>15.800</td>\n",
       "      <td>0.000</td>\n",
       "      <td>2.000</td>\n",
       "      <td>16.0</td>\n",
       "    </tr>\n",
       "  </tbody>\n",
       "</table>\n",
       "</div>"
      ],
      "text/plain": [
       "                           Date      Time Global_active_power  \\\n",
       "DateTime                                                        \n",
       "2006-12-16 17:24:00  16/12/2006  17:24:00               4.216   \n",
       "2006-12-16 17:25:00  16/12/2006  17:25:00               5.360   \n",
       "2006-12-16 17:26:00  16/12/2006  17:26:00               5.374   \n",
       "2006-12-16 17:27:00  16/12/2006  17:27:00               5.388   \n",
       "2006-12-16 17:28:00  16/12/2006  17:28:00               3.666   \n",
       "2006-12-16 17:29:00  16/12/2006  17:29:00               3.520   \n",
       "2006-12-16 17:30:00  16/12/2006  17:30:00               3.702   \n",
       "2006-12-16 17:31:00  16/12/2006  17:31:00               3.700   \n",
       "2006-12-16 17:32:00  16/12/2006  17:32:00               3.668   \n",
       "2006-12-16 17:33:00  16/12/2006  17:33:00               3.662   \n",
       "\n",
       "                    Global_reactive_power  Voltage Global_intensity  \\\n",
       "DateTime                                                              \n",
       "2006-12-16 17:24:00                 0.418  234.840           18.400   \n",
       "2006-12-16 17:25:00                 0.436  233.630           23.000   \n",
       "2006-12-16 17:26:00                 0.498  233.290           23.000   \n",
       "2006-12-16 17:27:00                 0.502  233.740           23.000   \n",
       "2006-12-16 17:28:00                 0.528  235.680           15.800   \n",
       "2006-12-16 17:29:00                 0.522  235.020           15.000   \n",
       "2006-12-16 17:30:00                 0.520  235.090           15.800   \n",
       "2006-12-16 17:31:00                 0.520  235.220           15.800   \n",
       "2006-12-16 17:32:00                 0.510  233.990           15.800   \n",
       "2006-12-16 17:33:00                 0.510  233.860           15.800   \n",
       "\n",
       "                    Sub_metering_1 Sub_metering_2  Sub_metering_3  \n",
       "DateTime                                                           \n",
       "2006-12-16 17:24:00          0.000          1.000            17.0  \n",
       "2006-12-16 17:25:00          0.000          1.000            16.0  \n",
       "2006-12-16 17:26:00          0.000          2.000            17.0  \n",
       "2006-12-16 17:27:00          0.000          1.000            17.0  \n",
       "2006-12-16 17:28:00          0.000          1.000            17.0  \n",
       "2006-12-16 17:29:00          0.000          2.000            17.0  \n",
       "2006-12-16 17:30:00          0.000          1.000            17.0  \n",
       "2006-12-16 17:31:00          0.000          1.000            17.0  \n",
       "2006-12-16 17:32:00          0.000          1.000            17.0  \n",
       "2006-12-16 17:33:00          0.000          2.000            16.0  "
      ]
     },
     "execution_count": 9,
     "metadata": {},
     "output_type": "execute_result"
    }
   ],
   "source": [
    "df1.head(10)"
   ]
  },
  {
   "cell_type": "code",
   "execution_count": 10,
   "metadata": {
    "execution": {
     "iopub.execute_input": "2021-11-01T21:01:23.366602Z",
     "iopub.status.busy": "2021-11-01T21:01:23.366278Z",
     "iopub.status.idle": "2021-11-01T21:01:23.468004Z",
     "shell.execute_reply": "2021-11-01T21:01:23.467100Z",
     "shell.execute_reply.started": "2021-11-01T21:01:23.366560Z"
    }
   },
   "outputs": [],
   "source": [
    "df1 = df1.drop(['Date','Time'], axis = 1)"
   ]
  },
  {
   "cell_type": "code",
   "execution_count": 11,
   "metadata": {
    "execution": {
     "iopub.execute_input": "2021-11-01T21:01:23.473450Z",
     "iopub.status.busy": "2021-11-01T21:01:23.473241Z",
     "iopub.status.idle": "2021-11-01T21:01:23.491426Z",
     "shell.execute_reply": "2021-11-01T21:01:23.490757Z",
     "shell.execute_reply.started": "2021-11-01T21:01:23.473424Z"
    }
   },
   "outputs": [
    {
     "data": {
      "text/html": [
       "<div>\n",
       "<style scoped>\n",
       "    .dataframe tbody tr th:only-of-type {\n",
       "        vertical-align: middle;\n",
       "    }\n",
       "\n",
       "    .dataframe tbody tr th {\n",
       "        vertical-align: top;\n",
       "    }\n",
       "\n",
       "    .dataframe thead th {\n",
       "        text-align: right;\n",
       "    }\n",
       "</style>\n",
       "<table border=\"1\" class=\"dataframe\">\n",
       "  <thead>\n",
       "    <tr style=\"text-align: right;\">\n",
       "      <th></th>\n",
       "      <th>Global_active_power</th>\n",
       "      <th>Global_reactive_power</th>\n",
       "      <th>Voltage</th>\n",
       "      <th>Global_intensity</th>\n",
       "      <th>Sub_metering_1</th>\n",
       "      <th>Sub_metering_2</th>\n",
       "      <th>Sub_metering_3</th>\n",
       "    </tr>\n",
       "    <tr>\n",
       "      <th>DateTime</th>\n",
       "      <th></th>\n",
       "      <th></th>\n",
       "      <th></th>\n",
       "      <th></th>\n",
       "      <th></th>\n",
       "      <th></th>\n",
       "      <th></th>\n",
       "    </tr>\n",
       "  </thead>\n",
       "  <tbody>\n",
       "    <tr>\n",
       "      <th>2006-12-16 17:24:00</th>\n",
       "      <td>4.216</td>\n",
       "      <td>0.418</td>\n",
       "      <td>234.840</td>\n",
       "      <td>18.400</td>\n",
       "      <td>0.000</td>\n",
       "      <td>1.000</td>\n",
       "      <td>17.0</td>\n",
       "    </tr>\n",
       "    <tr>\n",
       "      <th>2006-12-16 17:25:00</th>\n",
       "      <td>5.360</td>\n",
       "      <td>0.436</td>\n",
       "      <td>233.630</td>\n",
       "      <td>23.000</td>\n",
       "      <td>0.000</td>\n",
       "      <td>1.000</td>\n",
       "      <td>16.0</td>\n",
       "    </tr>\n",
       "    <tr>\n",
       "      <th>2006-12-16 17:26:00</th>\n",
       "      <td>5.374</td>\n",
       "      <td>0.498</td>\n",
       "      <td>233.290</td>\n",
       "      <td>23.000</td>\n",
       "      <td>0.000</td>\n",
       "      <td>2.000</td>\n",
       "      <td>17.0</td>\n",
       "    </tr>\n",
       "    <tr>\n",
       "      <th>2006-12-16 17:27:00</th>\n",
       "      <td>5.388</td>\n",
       "      <td>0.502</td>\n",
       "      <td>233.740</td>\n",
       "      <td>23.000</td>\n",
       "      <td>0.000</td>\n",
       "      <td>1.000</td>\n",
       "      <td>17.0</td>\n",
       "    </tr>\n",
       "    <tr>\n",
       "      <th>2006-12-16 17:28:00</th>\n",
       "      <td>3.666</td>\n",
       "      <td>0.528</td>\n",
       "      <td>235.680</td>\n",
       "      <td>15.800</td>\n",
       "      <td>0.000</td>\n",
       "      <td>1.000</td>\n",
       "      <td>17.0</td>\n",
       "    </tr>\n",
       "    <tr>\n",
       "      <th>2006-12-16 17:29:00</th>\n",
       "      <td>3.520</td>\n",
       "      <td>0.522</td>\n",
       "      <td>235.020</td>\n",
       "      <td>15.000</td>\n",
       "      <td>0.000</td>\n",
       "      <td>2.000</td>\n",
       "      <td>17.0</td>\n",
       "    </tr>\n",
       "    <tr>\n",
       "      <th>2006-12-16 17:30:00</th>\n",
       "      <td>3.702</td>\n",
       "      <td>0.520</td>\n",
       "      <td>235.090</td>\n",
       "      <td>15.800</td>\n",
       "      <td>0.000</td>\n",
       "      <td>1.000</td>\n",
       "      <td>17.0</td>\n",
       "    </tr>\n",
       "    <tr>\n",
       "      <th>2006-12-16 17:31:00</th>\n",
       "      <td>3.700</td>\n",
       "      <td>0.520</td>\n",
       "      <td>235.220</td>\n",
       "      <td>15.800</td>\n",
       "      <td>0.000</td>\n",
       "      <td>1.000</td>\n",
       "      <td>17.0</td>\n",
       "    </tr>\n",
       "    <tr>\n",
       "      <th>2006-12-16 17:32:00</th>\n",
       "      <td>3.668</td>\n",
       "      <td>0.510</td>\n",
       "      <td>233.990</td>\n",
       "      <td>15.800</td>\n",
       "      <td>0.000</td>\n",
       "      <td>1.000</td>\n",
       "      <td>17.0</td>\n",
       "    </tr>\n",
       "    <tr>\n",
       "      <th>2006-12-16 17:33:00</th>\n",
       "      <td>3.662</td>\n",
       "      <td>0.510</td>\n",
       "      <td>233.860</td>\n",
       "      <td>15.800</td>\n",
       "      <td>0.000</td>\n",
       "      <td>2.000</td>\n",
       "      <td>16.0</td>\n",
       "    </tr>\n",
       "  </tbody>\n",
       "</table>\n",
       "</div>"
      ],
      "text/plain": [
       "                    Global_active_power Global_reactive_power  Voltage  \\\n",
       "DateTime                                                                 \n",
       "2006-12-16 17:24:00               4.216                 0.418  234.840   \n",
       "2006-12-16 17:25:00               5.360                 0.436  233.630   \n",
       "2006-12-16 17:26:00               5.374                 0.498  233.290   \n",
       "2006-12-16 17:27:00               5.388                 0.502  233.740   \n",
       "2006-12-16 17:28:00               3.666                 0.528  235.680   \n",
       "2006-12-16 17:29:00               3.520                 0.522  235.020   \n",
       "2006-12-16 17:30:00               3.702                 0.520  235.090   \n",
       "2006-12-16 17:31:00               3.700                 0.520  235.220   \n",
       "2006-12-16 17:32:00               3.668                 0.510  233.990   \n",
       "2006-12-16 17:33:00               3.662                 0.510  233.860   \n",
       "\n",
       "                    Global_intensity Sub_metering_1 Sub_metering_2  \\\n",
       "DateTime                                                             \n",
       "2006-12-16 17:24:00           18.400          0.000          1.000   \n",
       "2006-12-16 17:25:00           23.000          0.000          1.000   \n",
       "2006-12-16 17:26:00           23.000          0.000          2.000   \n",
       "2006-12-16 17:27:00           23.000          0.000          1.000   \n",
       "2006-12-16 17:28:00           15.800          0.000          1.000   \n",
       "2006-12-16 17:29:00           15.000          0.000          2.000   \n",
       "2006-12-16 17:30:00           15.800          0.000          1.000   \n",
       "2006-12-16 17:31:00           15.800          0.000          1.000   \n",
       "2006-12-16 17:32:00           15.800          0.000          1.000   \n",
       "2006-12-16 17:33:00           15.800          0.000          2.000   \n",
       "\n",
       "                     Sub_metering_3  \n",
       "DateTime                             \n",
       "2006-12-16 17:24:00            17.0  \n",
       "2006-12-16 17:25:00            16.0  \n",
       "2006-12-16 17:26:00            17.0  \n",
       "2006-12-16 17:27:00            17.0  \n",
       "2006-12-16 17:28:00            17.0  \n",
       "2006-12-16 17:29:00            17.0  \n",
       "2006-12-16 17:30:00            17.0  \n",
       "2006-12-16 17:31:00            17.0  \n",
       "2006-12-16 17:32:00            17.0  \n",
       "2006-12-16 17:33:00            16.0  "
      ]
     },
     "execution_count": 11,
     "metadata": {},
     "output_type": "execute_result"
    }
   ],
   "source": [
    "df1.head(10)"
   ]
  },
  {
   "cell_type": "code",
   "execution_count": 12,
   "metadata": {
    "execution": {
     "iopub.execute_input": "2021-11-01T21:01:23.494185Z",
     "iopub.status.busy": "2021-11-01T21:01:23.493816Z",
     "iopub.status.idle": "2021-11-01T21:01:23.530603Z",
     "shell.execute_reply": "2021-11-01T21:01:23.529935Z",
     "shell.execute_reply.started": "2021-11-01T21:01:23.494137Z"
    }
   },
   "outputs": [
    {
     "data": {
      "text/plain": [
       "DatetimeIndex(['2006-12-16 17:24:00', '2006-12-16 17:25:00',\n",
       "               '2006-12-16 17:26:00', '2006-12-16 17:27:00',\n",
       "               '2006-12-16 17:28:00', '2006-12-16 17:29:00',\n",
       "               '2006-12-16 17:30:00', '2006-12-16 17:31:00',\n",
       "               '2006-12-16 17:32:00', '2006-12-16 17:33:00',\n",
       "               ...\n",
       "               '2010-11-26 20:53:00', '2010-11-26 20:54:00',\n",
       "               '2010-11-26 20:55:00', '2010-11-26 20:56:00',\n",
       "               '2010-11-26 20:57:00', '2010-11-26 20:58:00',\n",
       "               '2010-11-26 20:59:00', '2010-11-26 21:00:00',\n",
       "               '2010-11-26 21:01:00', '2010-11-26 21:02:00'],\n",
       "              dtype='datetime64[ns]', name='DateTime', length=2075259, freq=None)"
      ]
     },
     "execution_count": 12,
     "metadata": {},
     "output_type": "execute_result"
    }
   ],
   "source": [
    "df1.index"
   ]
  },
  {
   "cell_type": "code",
   "execution_count": 13,
   "metadata": {
    "execution": {
     "iopub.execute_input": "2021-11-01T21:01:23.532094Z",
     "iopub.status.busy": "2021-11-01T21:01:23.531827Z",
     "iopub.status.idle": "2021-11-01T21:01:25.000356Z",
     "shell.execute_reply": "2021-11-01T21:01:24.999602Z",
     "shell.execute_reply.started": "2021-11-01T21:01:23.532059Z"
    }
   },
   "outputs": [
    {
     "data": {
      "text/plain": [
       "Global_active_power          0\n",
       "Global_reactive_power        0\n",
       "Voltage                      0\n",
       "Global_intensity             0\n",
       "Sub_metering_1               0\n",
       "Sub_metering_2               0\n",
       "Sub_metering_3           25979\n",
       "dtype: int64"
      ]
     },
     "execution_count": 13,
     "metadata": {},
     "output_type": "execute_result"
    }
   ],
   "source": [
    "df_typechange = df1.copy()\n",
    "\n",
    "df_typechange.isnull().sum()"
   ]
  },
  {
   "cell_type": "code",
   "execution_count": 14,
   "metadata": {
    "execution": {
     "iopub.execute_input": "2021-11-01T21:01:25.002037Z",
     "iopub.status.busy": "2021-11-01T21:01:25.001627Z",
     "iopub.status.idle": "2021-11-01T21:01:25.013957Z",
     "shell.execute_reply": "2021-11-01T21:01:25.013243Z",
     "shell.execute_reply.started": "2021-11-01T21:01:25.001997Z"
    }
   },
   "outputs": [],
   "source": [
    "mean_value=df_typechange['Sub_metering_3'].mean()\n",
    "\n",
    "df_typechange['Sub_metering_3'].fillna(value=mean_value, inplace=True)\n"
   ]
  },
  {
   "cell_type": "code",
   "execution_count": 15,
   "metadata": {
    "execution": {
     "iopub.execute_input": "2021-11-01T21:01:25.015733Z",
     "iopub.status.busy": "2021-11-01T21:01:25.015341Z",
     "iopub.status.idle": "2021-11-01T21:01:26.165597Z",
     "shell.execute_reply": "2021-11-01T21:01:26.164855Z",
     "shell.execute_reply.started": "2021-11-01T21:01:25.015698Z"
    }
   },
   "outputs": [
    {
     "data": {
      "text/plain": [
       "Global_active_power      0\n",
       "Global_reactive_power    0\n",
       "Voltage                  0\n",
       "Global_intensity         0\n",
       "Sub_metering_1           0\n",
       "Sub_metering_2           0\n",
       "Sub_metering_3           0\n",
       "dtype: int64"
      ]
     },
     "execution_count": 15,
     "metadata": {},
     "output_type": "execute_result"
    }
   ],
   "source": [
    "df_typechange.isnull().sum()"
   ]
  },
  {
   "cell_type": "code",
   "execution_count": 16,
   "metadata": {
    "execution": {
     "iopub.execute_input": "2021-11-01T21:01:26.167213Z",
     "iopub.status.busy": "2021-11-01T21:01:26.166922Z",
     "iopub.status.idle": "2021-11-01T21:01:27.223133Z",
     "shell.execute_reply": "2021-11-01T21:01:27.222344Z",
     "shell.execute_reply.started": "2021-11-01T21:01:26.167175Z"
    }
   },
   "outputs": [],
   "source": [
    "df_typechange['Global_active_power'] = pd.to_numeric(df_typechange['Global_active_power'], errors='coerce').fillna(method = 'ffill')"
   ]
  },
  {
   "cell_type": "code",
   "execution_count": 17,
   "metadata": {
    "execution": {
     "iopub.execute_input": "2021-11-01T21:01:27.224701Z",
     "iopub.status.busy": "2021-11-01T21:01:27.224432Z",
     "iopub.status.idle": "2021-11-01T21:01:32.088610Z",
     "shell.execute_reply": "2021-11-01T21:01:32.087759Z",
     "shell.execute_reply.started": "2021-11-01T21:01:27.224666Z"
    }
   },
   "outputs": [],
   "source": [
    "df_typechange.Global_reactive_power = pd.to_numeric(df_typechange.Global_reactive_power, errors='coerce')\n",
    "\n",
    "df_typechange.Voltage = pd.to_numeric(df_typechange.Voltage, errors='coerce')\n",
    "\n",
    "df_typechange.Global_intensity = pd.to_numeric(df_typechange.Global_intensity, errors='coerce')\n",
    "\n",
    "df_typechange.Sub_metering_1 = pd.to_numeric(df_typechange.Sub_metering_1, errors='coerce')\n",
    "\n",
    "df_typechange.Sub_metering_2 = pd.to_numeric(df_typechange.Sub_metering_2, errors='coerce')"
   ]
  },
  {
   "cell_type": "code",
   "execution_count": 18,
   "metadata": {
    "execution": {
     "iopub.execute_input": "2021-11-01T21:01:32.090258Z",
     "iopub.status.busy": "2021-11-01T21:01:32.089829Z",
     "iopub.status.idle": "2021-11-01T21:01:32.103907Z",
     "shell.execute_reply": "2021-11-01T21:01:32.103153Z",
     "shell.execute_reply.started": "2021-11-01T21:01:32.090213Z"
    }
   },
   "outputs": [
    {
     "name": "stdout",
     "output_type": "stream",
     "text": [
      "<class 'pandas.core.frame.DataFrame'>\n",
      "DatetimeIndex: 2075259 entries, 2006-12-16 17:24:00 to 2010-11-26 21:02:00\n",
      "Data columns (total 7 columns):\n",
      " #   Column                 Dtype  \n",
      "---  ------                 -----  \n",
      " 0   Global_active_power    float64\n",
      " 1   Global_reactive_power  float64\n",
      " 2   Voltage                float64\n",
      " 3   Global_intensity       float64\n",
      " 4   Sub_metering_1         float64\n",
      " 5   Sub_metering_2         float64\n",
      " 6   Sub_metering_3         float64\n",
      "dtypes: float64(7)\n",
      "memory usage: 126.7 MB\n"
     ]
    }
   ],
   "source": [
    "df_typechange.info()"
   ]
  },
  {
   "cell_type": "code",
   "execution_count": 19,
   "metadata": {
    "execution": {
     "iopub.execute_input": "2021-11-01T21:01:32.105919Z",
     "iopub.status.busy": "2021-11-01T21:01:32.105239Z",
     "iopub.status.idle": "2021-11-01T21:01:32.127725Z",
     "shell.execute_reply": "2021-11-01T21:01:32.126936Z",
     "shell.execute_reply.started": "2021-11-01T21:01:32.105878Z"
    }
   },
   "outputs": [
    {
     "data": {
      "text/html": [
       "<div>\n",
       "<style scoped>\n",
       "    .dataframe tbody tr th:only-of-type {\n",
       "        vertical-align: middle;\n",
       "    }\n",
       "\n",
       "    .dataframe tbody tr th {\n",
       "        vertical-align: top;\n",
       "    }\n",
       "\n",
       "    .dataframe thead th {\n",
       "        text-align: right;\n",
       "    }\n",
       "</style>\n",
       "<table border=\"1\" class=\"dataframe\">\n",
       "  <thead>\n",
       "    <tr style=\"text-align: right;\">\n",
       "      <th></th>\n",
       "      <th>Global_active_power</th>\n",
       "      <th>Global_reactive_power</th>\n",
       "      <th>Voltage</th>\n",
       "      <th>Global_intensity</th>\n",
       "      <th>Sub_metering_1</th>\n",
       "      <th>Sub_metering_2</th>\n",
       "      <th>Sub_metering_3</th>\n",
       "    </tr>\n",
       "    <tr>\n",
       "      <th>DateTime</th>\n",
       "      <th></th>\n",
       "      <th></th>\n",
       "      <th></th>\n",
       "      <th></th>\n",
       "      <th></th>\n",
       "      <th></th>\n",
       "      <th></th>\n",
       "    </tr>\n",
       "  </thead>\n",
       "  <tbody>\n",
       "    <tr>\n",
       "      <th>2006-12-16 17:24:00</th>\n",
       "      <td>4.216</td>\n",
       "      <td>0.418</td>\n",
       "      <td>234.84</td>\n",
       "      <td>18.4</td>\n",
       "      <td>0.0</td>\n",
       "      <td>1.0</td>\n",
       "      <td>17.0</td>\n",
       "    </tr>\n",
       "    <tr>\n",
       "      <th>2006-12-16 17:25:00</th>\n",
       "      <td>5.360</td>\n",
       "      <td>0.436</td>\n",
       "      <td>233.63</td>\n",
       "      <td>23.0</td>\n",
       "      <td>0.0</td>\n",
       "      <td>1.0</td>\n",
       "      <td>16.0</td>\n",
       "    </tr>\n",
       "    <tr>\n",
       "      <th>2006-12-16 17:26:00</th>\n",
       "      <td>5.374</td>\n",
       "      <td>0.498</td>\n",
       "      <td>233.29</td>\n",
       "      <td>23.0</td>\n",
       "      <td>0.0</td>\n",
       "      <td>2.0</td>\n",
       "      <td>17.0</td>\n",
       "    </tr>\n",
       "    <tr>\n",
       "      <th>2006-12-16 17:27:00</th>\n",
       "      <td>5.388</td>\n",
       "      <td>0.502</td>\n",
       "      <td>233.74</td>\n",
       "      <td>23.0</td>\n",
       "      <td>0.0</td>\n",
       "      <td>1.0</td>\n",
       "      <td>17.0</td>\n",
       "    </tr>\n",
       "    <tr>\n",
       "      <th>2006-12-16 17:28:00</th>\n",
       "      <td>3.666</td>\n",
       "      <td>0.528</td>\n",
       "      <td>235.68</td>\n",
       "      <td>15.8</td>\n",
       "      <td>0.0</td>\n",
       "      <td>1.0</td>\n",
       "      <td>17.0</td>\n",
       "    </tr>\n",
       "    <tr>\n",
       "      <th>2006-12-16 17:29:00</th>\n",
       "      <td>3.520</td>\n",
       "      <td>0.522</td>\n",
       "      <td>235.02</td>\n",
       "      <td>15.0</td>\n",
       "      <td>0.0</td>\n",
       "      <td>2.0</td>\n",
       "      <td>17.0</td>\n",
       "    </tr>\n",
       "    <tr>\n",
       "      <th>2006-12-16 17:30:00</th>\n",
       "      <td>3.702</td>\n",
       "      <td>0.520</td>\n",
       "      <td>235.09</td>\n",
       "      <td>15.8</td>\n",
       "      <td>0.0</td>\n",
       "      <td>1.0</td>\n",
       "      <td>17.0</td>\n",
       "    </tr>\n",
       "    <tr>\n",
       "      <th>2006-12-16 17:31:00</th>\n",
       "      <td>3.700</td>\n",
       "      <td>0.520</td>\n",
       "      <td>235.22</td>\n",
       "      <td>15.8</td>\n",
       "      <td>0.0</td>\n",
       "      <td>1.0</td>\n",
       "      <td>17.0</td>\n",
       "    </tr>\n",
       "    <tr>\n",
       "      <th>2006-12-16 17:32:00</th>\n",
       "      <td>3.668</td>\n",
       "      <td>0.510</td>\n",
       "      <td>233.99</td>\n",
       "      <td>15.8</td>\n",
       "      <td>0.0</td>\n",
       "      <td>1.0</td>\n",
       "      <td>17.0</td>\n",
       "    </tr>\n",
       "    <tr>\n",
       "      <th>2006-12-16 17:33:00</th>\n",
       "      <td>3.662</td>\n",
       "      <td>0.510</td>\n",
       "      <td>233.86</td>\n",
       "      <td>15.8</td>\n",
       "      <td>0.0</td>\n",
       "      <td>2.0</td>\n",
       "      <td>16.0</td>\n",
       "    </tr>\n",
       "  </tbody>\n",
       "</table>\n",
       "</div>"
      ],
      "text/plain": [
       "                     Global_active_power  Global_reactive_power  Voltage  \\\n",
       "DateTime                                                                   \n",
       "2006-12-16 17:24:00                4.216                  0.418   234.84   \n",
       "2006-12-16 17:25:00                5.360                  0.436   233.63   \n",
       "2006-12-16 17:26:00                5.374                  0.498   233.29   \n",
       "2006-12-16 17:27:00                5.388                  0.502   233.74   \n",
       "2006-12-16 17:28:00                3.666                  0.528   235.68   \n",
       "2006-12-16 17:29:00                3.520                  0.522   235.02   \n",
       "2006-12-16 17:30:00                3.702                  0.520   235.09   \n",
       "2006-12-16 17:31:00                3.700                  0.520   235.22   \n",
       "2006-12-16 17:32:00                3.668                  0.510   233.99   \n",
       "2006-12-16 17:33:00                3.662                  0.510   233.86   \n",
       "\n",
       "                     Global_intensity  Sub_metering_1  Sub_metering_2  \\\n",
       "DateTime                                                                \n",
       "2006-12-16 17:24:00              18.4             0.0             1.0   \n",
       "2006-12-16 17:25:00              23.0             0.0             1.0   \n",
       "2006-12-16 17:26:00              23.0             0.0             2.0   \n",
       "2006-12-16 17:27:00              23.0             0.0             1.0   \n",
       "2006-12-16 17:28:00              15.8             0.0             1.0   \n",
       "2006-12-16 17:29:00              15.0             0.0             2.0   \n",
       "2006-12-16 17:30:00              15.8             0.0             1.0   \n",
       "2006-12-16 17:31:00              15.8             0.0             1.0   \n",
       "2006-12-16 17:32:00              15.8             0.0             1.0   \n",
       "2006-12-16 17:33:00              15.8             0.0             2.0   \n",
       "\n",
       "                     Sub_metering_3  \n",
       "DateTime                             \n",
       "2006-12-16 17:24:00            17.0  \n",
       "2006-12-16 17:25:00            16.0  \n",
       "2006-12-16 17:26:00            17.0  \n",
       "2006-12-16 17:27:00            17.0  \n",
       "2006-12-16 17:28:00            17.0  \n",
       "2006-12-16 17:29:00            17.0  \n",
       "2006-12-16 17:30:00            17.0  \n",
       "2006-12-16 17:31:00            17.0  \n",
       "2006-12-16 17:32:00            17.0  \n",
       "2006-12-16 17:33:00            16.0  "
      ]
     },
     "execution_count": 19,
     "metadata": {},
     "output_type": "execute_result"
    }
   ],
   "source": [
    "df_typechange.head(10)"
   ]
  },
  {
   "cell_type": "code",
   "execution_count": 20,
   "metadata": {
    "execution": {
     "iopub.execute_input": "2021-11-01T21:01:32.129507Z",
     "iopub.status.busy": "2021-11-01T21:01:32.128863Z",
     "iopub.status.idle": "2021-11-01T21:01:32.488241Z",
     "shell.execute_reply": "2021-11-01T21:01:32.487484Z",
     "shell.execute_reply.started": "2021-11-01T21:01:32.129478Z"
    }
   },
   "outputs": [],
   "source": [
    "df_resample = df_typechange.resample('D').sum()"
   ]
  },
  {
   "cell_type": "code",
   "execution_count": 21,
   "metadata": {
    "execution": {
     "iopub.execute_input": "2021-11-01T21:01:32.489764Z",
     "iopub.status.busy": "2021-11-01T21:01:32.489497Z",
     "iopub.status.idle": "2021-11-01T21:01:32.498435Z",
     "shell.execute_reply": "2021-11-01T21:01:32.497752Z",
     "shell.execute_reply.started": "2021-11-01T21:01:32.489731Z"
    }
   },
   "outputs": [],
   "source": [
    "df_resample = df_resample.round({'Global_active_power': 3, 'Global_reactive_power': 3, 'Voltage': 2, 'Global_intensity': 2,'Sub_metering_1': 1, 'Sub_metering_2' : 1, 'Sub_metering_3': 1})\n",
    "\n"
   ]
  },
  {
   "cell_type": "code",
   "execution_count": 22,
   "metadata": {
    "execution": {
     "iopub.execute_input": "2021-11-01T21:01:32.499856Z",
     "iopub.status.busy": "2021-11-01T21:01:32.499539Z",
     "iopub.status.idle": "2021-11-01T21:01:32.522757Z",
     "shell.execute_reply": "2021-11-01T21:01:32.521907Z",
     "shell.execute_reply.started": "2021-11-01T21:01:32.499820Z"
    }
   },
   "outputs": [
    {
     "data": {
      "text/html": [
       "<div>\n",
       "<style scoped>\n",
       "    .dataframe tbody tr th:only-of-type {\n",
       "        vertical-align: middle;\n",
       "    }\n",
       "\n",
       "    .dataframe tbody tr th {\n",
       "        vertical-align: top;\n",
       "    }\n",
       "\n",
       "    .dataframe thead th {\n",
       "        text-align: right;\n",
       "    }\n",
       "</style>\n",
       "<table border=\"1\" class=\"dataframe\">\n",
       "  <thead>\n",
       "    <tr style=\"text-align: right;\">\n",
       "      <th></th>\n",
       "      <th>Global_active_power</th>\n",
       "      <th>Global_reactive_power</th>\n",
       "      <th>Voltage</th>\n",
       "      <th>Global_intensity</th>\n",
       "      <th>Sub_metering_1</th>\n",
       "      <th>Sub_metering_2</th>\n",
       "      <th>Sub_metering_3</th>\n",
       "    </tr>\n",
       "    <tr>\n",
       "      <th>DateTime</th>\n",
       "      <th></th>\n",
       "      <th></th>\n",
       "      <th></th>\n",
       "      <th></th>\n",
       "      <th></th>\n",
       "      <th></th>\n",
       "      <th></th>\n",
       "    </tr>\n",
       "  </thead>\n",
       "  <tbody>\n",
       "    <tr>\n",
       "      <th>2006-12-16</th>\n",
       "      <td>1209.176</td>\n",
       "      <td>34.922</td>\n",
       "      <td>93552.53</td>\n",
       "      <td>5180.8</td>\n",
       "      <td>0.0</td>\n",
       "      <td>546.0</td>\n",
       "      <td>4926.0</td>\n",
       "    </tr>\n",
       "    <tr>\n",
       "      <th>2006-12-17</th>\n",
       "      <td>3390.460</td>\n",
       "      <td>226.006</td>\n",
       "      <td>345725.32</td>\n",
       "      <td>14398.6</td>\n",
       "      <td>2033.0</td>\n",
       "      <td>4187.0</td>\n",
       "      <td>13341.0</td>\n",
       "    </tr>\n",
       "    <tr>\n",
       "      <th>2006-12-18</th>\n",
       "      <td>2203.826</td>\n",
       "      <td>161.792</td>\n",
       "      <td>347373.64</td>\n",
       "      <td>9247.2</td>\n",
       "      <td>1063.0</td>\n",
       "      <td>2621.0</td>\n",
       "      <td>14018.0</td>\n",
       "    </tr>\n",
       "    <tr>\n",
       "      <th>2006-12-19</th>\n",
       "      <td>1666.194</td>\n",
       "      <td>150.942</td>\n",
       "      <td>348479.01</td>\n",
       "      <td>7094.0</td>\n",
       "      <td>839.0</td>\n",
       "      <td>7602.0</td>\n",
       "      <td>6197.0</td>\n",
       "    </tr>\n",
       "    <tr>\n",
       "      <th>2006-12-20</th>\n",
       "      <td>2225.748</td>\n",
       "      <td>160.998</td>\n",
       "      <td>348923.61</td>\n",
       "      <td>9313.0</td>\n",
       "      <td>0.0</td>\n",
       "      <td>2648.0</td>\n",
       "      <td>14063.0</td>\n",
       "    </tr>\n",
       "    <tr>\n",
       "      <th>2006-12-21</th>\n",
       "      <td>1717.112</td>\n",
       "      <td>144.166</td>\n",
       "      <td>346616.31</td>\n",
       "      <td>7238.6</td>\n",
       "      <td>1765.0</td>\n",
       "      <td>2623.0</td>\n",
       "      <td>10433.9</td>\n",
       "    </tr>\n",
       "    <tr>\n",
       "      <th>2006-12-22</th>\n",
       "      <td>2341.338</td>\n",
       "      <td>186.906</td>\n",
       "      <td>347305.75</td>\n",
       "      <td>9897.0</td>\n",
       "      <td>3151.0</td>\n",
       "      <td>350.0</td>\n",
       "      <td>11131.0</td>\n",
       "    </tr>\n",
       "    <tr>\n",
       "      <th>2006-12-23</th>\n",
       "      <td>4773.386</td>\n",
       "      <td>221.470</td>\n",
       "      <td>345795.95</td>\n",
       "      <td>20200.4</td>\n",
       "      <td>2669.0</td>\n",
       "      <td>425.0</td>\n",
       "      <td>14726.0</td>\n",
       "    </tr>\n",
       "    <tr>\n",
       "      <th>2006-12-24</th>\n",
       "      <td>2550.012</td>\n",
       "      <td>149.900</td>\n",
       "      <td>348029.91</td>\n",
       "      <td>11002.2</td>\n",
       "      <td>1703.0</td>\n",
       "      <td>5082.0</td>\n",
       "      <td>6891.0</td>\n",
       "    </tr>\n",
       "    <tr>\n",
       "      <th>2006-12-25</th>\n",
       "      <td>2743.120</td>\n",
       "      <td>240.280</td>\n",
       "      <td>350495.90</td>\n",
       "      <td>11450.2</td>\n",
       "      <td>6620.0</td>\n",
       "      <td>1962.0</td>\n",
       "      <td>5795.0</td>\n",
       "    </tr>\n",
       "  </tbody>\n",
       "</table>\n",
       "</div>"
      ],
      "text/plain": [
       "            Global_active_power  Global_reactive_power    Voltage  \\\n",
       "DateTime                                                            \n",
       "2006-12-16             1209.176                 34.922   93552.53   \n",
       "2006-12-17             3390.460                226.006  345725.32   \n",
       "2006-12-18             2203.826                161.792  347373.64   \n",
       "2006-12-19             1666.194                150.942  348479.01   \n",
       "2006-12-20             2225.748                160.998  348923.61   \n",
       "2006-12-21             1717.112                144.166  346616.31   \n",
       "2006-12-22             2341.338                186.906  347305.75   \n",
       "2006-12-23             4773.386                221.470  345795.95   \n",
       "2006-12-24             2550.012                149.900  348029.91   \n",
       "2006-12-25             2743.120                240.280  350495.90   \n",
       "\n",
       "            Global_intensity  Sub_metering_1  Sub_metering_2  Sub_metering_3  \n",
       "DateTime                                                                      \n",
       "2006-12-16            5180.8             0.0           546.0          4926.0  \n",
       "2006-12-17           14398.6          2033.0          4187.0         13341.0  \n",
       "2006-12-18            9247.2          1063.0          2621.0         14018.0  \n",
       "2006-12-19            7094.0           839.0          7602.0          6197.0  \n",
       "2006-12-20            9313.0             0.0          2648.0         14063.0  \n",
       "2006-12-21            7238.6          1765.0          2623.0         10433.9  \n",
       "2006-12-22            9897.0          3151.0           350.0         11131.0  \n",
       "2006-12-23           20200.4          2669.0           425.0         14726.0  \n",
       "2006-12-24           11002.2          1703.0          5082.0          6891.0  \n",
       "2006-12-25           11450.2          6620.0          1962.0          5795.0  "
      ]
     },
     "execution_count": 22,
     "metadata": {},
     "output_type": "execute_result"
    }
   ],
   "source": [
    "df_resample.head(10)"
   ]
  },
  {
   "cell_type": "code",
   "execution_count": 23,
   "metadata": {
    "execution": {
     "iopub.execute_input": "2021-11-01T21:01:32.524664Z",
     "iopub.status.busy": "2021-11-01T21:01:32.524390Z",
     "iopub.status.idle": "2021-11-01T21:01:32.534452Z",
     "shell.execute_reply": "2021-11-01T21:01:32.533742Z",
     "shell.execute_reply.started": "2021-11-01T21:01:32.524628Z"
    }
   },
   "outputs": [
    {
     "data": {
      "text/plain": [
       "Global_active_power      0\n",
       "Global_reactive_power    0\n",
       "Voltage                  0\n",
       "Global_intensity         0\n",
       "Sub_metering_1           0\n",
       "Sub_metering_2           0\n",
       "Sub_metering_3           0\n",
       "dtype: int64"
      ]
     },
     "execution_count": 23,
     "metadata": {},
     "output_type": "execute_result"
    }
   ],
   "source": [
    "df_resample.isnull().sum()"
   ]
  },
  {
   "cell_type": "code",
   "execution_count": 24,
   "metadata": {
    "execution": {
     "iopub.execute_input": "2021-11-01T21:01:32.536434Z",
     "iopub.status.busy": "2021-11-01T21:01:32.536007Z",
     "iopub.status.idle": "2021-11-01T21:01:35.122472Z",
     "shell.execute_reply": "2021-11-01T21:01:35.114703Z",
     "shell.execute_reply.started": "2021-11-01T21:01:32.536396Z"
    }
   },
   "outputs": [
    {
     "data": {
      "image/png": "[encoded data removed]",
      "text/plain": [
       "<Figure size 1080x576 with 4 Axes>"
      ]
     },
     "metadata": {
      "needs_background": "light"
     },
     "output_type": "display_data"
    }
   ],
   "source": [
    "import statsmodels.api as sm\n",
    "\n",
    "from pylab import rcParams\n",
    "\n",
    "rcParams['figure.figsize'] = 15, 8\n",
    "\n",
    "decompose_series = sm.tsa.seasonal_decompose(df_resample['Global_active_power'], model='additive')\n",
    "\n",
    "decompose_series.plot()\n",
    "\n",
    "plt.show()"
   ]
  },
  {
   "cell_type": "code",
   "execution_count": 25,
   "metadata": {
    "execution": {
     "iopub.execute_input": "2021-11-01T21:01:35.123912Z",
     "iopub.status.busy": "2021-11-01T21:01:35.123630Z",
     "iopub.status.idle": "2021-11-01T21:01:35.282445Z",
     "shell.execute_reply": "2021-11-01T21:01:35.281619Z",
     "shell.execute_reply.started": "2021-11-01T21:01:35.123876Z"
    }
   },
   "outputs": [
    {
     "name": "stdout",
     "output_type": "stream",
     "text": [
      "ADF Statistic: -8.730466104846853\n",
      "p-value: 3.2019908676494866e-14\n",
      "No. of lags used: 8\n",
      "No. of observations used : 1448\n",
      "Critical Values:\n",
      "   1%: -3.434874123222469\n",
      "   5%: -2.8635380960841084\n",
      "   10%: -2.5678337706609993\n"
     ]
    }
   ],
   "source": [
    "from statsmodels.tsa.stattools import adfuller\n",
    "\n",
    "adf_result = adfuller(df_resample['Global_active_power'])\n",
    "\n",
    "print(f'ADF Statistic: {adf_result[0]}')\n",
    "print(f'p-value: {adf_result[1]}')\n",
    "print(f'No. of lags used: {adf_result[2]}')\n",
    "print(f'No. of observations used : {adf_result[3]}')\n",
    "print('Critical Values:')\n",
    "\n",
    "for k, v in adf_result[4].items():\n",
    "    print(f'   {k}: {v}') "
   ]
  },
  {
   "cell_type": "code",
   "execution_count": 26,
   "metadata": {
    "execution": {
     "iopub.execute_input": "2021-11-01T21:01:35.284233Z",
     "iopub.status.busy": "2021-11-01T21:01:35.283806Z",
     "iopub.status.idle": "2021-11-01T21:01:35.298756Z",
     "shell.execute_reply": "2021-11-01T21:01:35.298042Z",
     "shell.execute_reply.started": "2021-11-01T21:01:35.284179Z"
    }
   },
   "outputs": [
    {
     "data": {
      "text/plain": [
       "Global_active_power      0\n",
       "Global_reactive_power    0\n",
       "Voltage                  0\n",
       "Global_intensity         0\n",
       "Sub_metering_1           0\n",
       "Sub_metering_2           0\n",
       "Sub_metering_3           0\n",
       "dtype: int64"
      ]
     },
     "execution_count": 26,
     "metadata": {},
     "output_type": "execute_result"
    }
   ],
   "source": [
    "df_resample.isnull().sum()"
   ]
  },
  {
   "cell_type": "code",
   "execution_count": 27,
   "metadata": {
    "execution": {
     "iopub.execute_input": "2021-11-01T21:01:35.301483Z",
     "iopub.status.busy": "2021-11-01T21:01:35.300287Z",
     "iopub.status.idle": "2021-11-01T21:01:35.308211Z",
     "shell.execute_reply": "2021-11-01T21:01:35.307280Z",
     "shell.execute_reply.started": "2021-11-01T21:01:35.301443Z"
    }
   },
   "outputs": [],
   "source": [
    "df_diff = df_resample.diff(periods=1)"
   ]
  },
  {
   "cell_type": "code",
   "execution_count": 28,
   "metadata": {
    "execution": {
     "iopub.execute_input": "2021-11-01T21:01:35.311772Z",
     "iopub.status.busy": "2021-11-01T21:01:35.310880Z",
     "iopub.status.idle": "2021-11-01T21:01:35.333095Z",
     "shell.execute_reply": "2021-11-01T21:01:35.330767Z",
     "shell.execute_reply.started": "2021-11-01T21:01:35.311721Z"
    }
   },
   "outputs": [
    {
     "data": {
      "text/plain": [
       "Global_active_power      1\n",
       "Global_reactive_power    1\n",
       "Voltage                  1\n",
       "Global_intensity         1\n",
       "Sub_metering_1           1\n",
       "Sub_metering_2           1\n",
       "Sub_metering_3           1\n",
       "dtype: int64"
      ]
     },
     "execution_count": 28,
     "metadata": {},
     "output_type": "execute_result"
    }
   ],
   "source": [
    "df_diff.isnull().sum()"
   ]
  },
  {
   "cell_type": "code",
   "execution_count": 29,
   "metadata": {
    "execution": {
     "iopub.execute_input": "2021-11-01T21:01:35.344988Z",
     "iopub.status.busy": "2021-11-01T21:01:35.344568Z",
     "iopub.status.idle": "2021-11-01T21:01:35.383800Z",
     "shell.execute_reply": "2021-11-01T21:01:35.383056Z",
     "shell.execute_reply.started": "2021-11-01T21:01:35.344950Z"
    }
   },
   "outputs": [
    {
     "data": {
      "text/html": [
       "<div>\n",
       "<style scoped>\n",
       "    .dataframe tbody tr th:only-of-type {\n",
       "        vertical-align: middle;\n",
       "    }\n",
       "\n",
       "    .dataframe tbody tr th {\n",
       "        vertical-align: top;\n",
       "    }\n",
       "\n",
       "    .dataframe thead th {\n",
       "        text-align: right;\n",
       "    }\n",
       "</style>\n",
       "<table border=\"1\" class=\"dataframe\">\n",
       "  <thead>\n",
       "    <tr style=\"text-align: right;\">\n",
       "      <th></th>\n",
       "      <th>Global_active_power</th>\n",
       "      <th>Global_reactive_power</th>\n",
       "      <th>Voltage</th>\n",
       "      <th>Global_intensity</th>\n",
       "      <th>Sub_metering_1</th>\n",
       "      <th>Sub_metering_2</th>\n",
       "      <th>Sub_metering_3</th>\n",
       "    </tr>\n",
       "    <tr>\n",
       "      <th>DateTime</th>\n",
       "      <th></th>\n",
       "      <th></th>\n",
       "      <th></th>\n",
       "      <th></th>\n",
       "      <th></th>\n",
       "      <th></th>\n",
       "      <th></th>\n",
       "    </tr>\n",
       "  </thead>\n",
       "  <tbody>\n",
       "    <tr>\n",
       "      <th>2006-12-16</th>\n",
       "      <td>NaN</td>\n",
       "      <td>NaN</td>\n",
       "      <td>NaN</td>\n",
       "      <td>NaN</td>\n",
       "      <td>NaN</td>\n",
       "      <td>NaN</td>\n",
       "      <td>NaN</td>\n",
       "    </tr>\n",
       "    <tr>\n",
       "      <th>2006-12-17</th>\n",
       "      <td>2181.284</td>\n",
       "      <td>191.084</td>\n",
       "      <td>252172.79</td>\n",
       "      <td>9217.8</td>\n",
       "      <td>2033.0</td>\n",
       "      <td>3641.0</td>\n",
       "      <td>8415.0</td>\n",
       "    </tr>\n",
       "    <tr>\n",
       "      <th>2006-12-18</th>\n",
       "      <td>-1186.634</td>\n",
       "      <td>-64.214</td>\n",
       "      <td>1648.32</td>\n",
       "      <td>-5151.4</td>\n",
       "      <td>-970.0</td>\n",
       "      <td>-1566.0</td>\n",
       "      <td>677.0</td>\n",
       "    </tr>\n",
       "    <tr>\n",
       "      <th>2006-12-19</th>\n",
       "      <td>-537.632</td>\n",
       "      <td>-10.850</td>\n",
       "      <td>1105.37</td>\n",
       "      <td>-2153.2</td>\n",
       "      <td>-224.0</td>\n",
       "      <td>4981.0</td>\n",
       "      <td>-7821.0</td>\n",
       "    </tr>\n",
       "    <tr>\n",
       "      <th>2006-12-20</th>\n",
       "      <td>559.554</td>\n",
       "      <td>10.056</td>\n",
       "      <td>444.60</td>\n",
       "      <td>2219.0</td>\n",
       "      <td>-839.0</td>\n",
       "      <td>-4954.0</td>\n",
       "      <td>7866.0</td>\n",
       "    </tr>\n",
       "    <tr>\n",
       "      <th>2006-12-21</th>\n",
       "      <td>-508.636</td>\n",
       "      <td>-16.832</td>\n",
       "      <td>-2307.30</td>\n",
       "      <td>-2074.4</td>\n",
       "      <td>1765.0</td>\n",
       "      <td>-25.0</td>\n",
       "      <td>-3629.1</td>\n",
       "    </tr>\n",
       "    <tr>\n",
       "      <th>2006-12-22</th>\n",
       "      <td>624.226</td>\n",
       "      <td>42.740</td>\n",
       "      <td>689.44</td>\n",
       "      <td>2658.4</td>\n",
       "      <td>1386.0</td>\n",
       "      <td>-2273.0</td>\n",
       "      <td>697.1</td>\n",
       "    </tr>\n",
       "    <tr>\n",
       "      <th>2006-12-23</th>\n",
       "      <td>2432.048</td>\n",
       "      <td>34.564</td>\n",
       "      <td>-1509.80</td>\n",
       "      <td>10303.4</td>\n",
       "      <td>-482.0</td>\n",
       "      <td>75.0</td>\n",
       "      <td>3595.0</td>\n",
       "    </tr>\n",
       "    <tr>\n",
       "      <th>2006-12-24</th>\n",
       "      <td>-2223.374</td>\n",
       "      <td>-71.570</td>\n",
       "      <td>2233.96</td>\n",
       "      <td>-9198.2</td>\n",
       "      <td>-966.0</td>\n",
       "      <td>4657.0</td>\n",
       "      <td>-7835.0</td>\n",
       "    </tr>\n",
       "    <tr>\n",
       "      <th>2006-12-25</th>\n",
       "      <td>193.108</td>\n",
       "      <td>90.380</td>\n",
       "      <td>2465.99</td>\n",
       "      <td>448.0</td>\n",
       "      <td>4917.0</td>\n",
       "      <td>-3120.0</td>\n",
       "      <td>-1096.0</td>\n",
       "    </tr>\n",
       "  </tbody>\n",
       "</table>\n",
       "</div>"
      ],
      "text/plain": [
       "            Global_active_power  Global_reactive_power    Voltage  \\\n",
       "DateTime                                                            \n",
       "2006-12-16                  NaN                    NaN        NaN   \n",
       "2006-12-17             2181.284                191.084  252172.79   \n",
       "2006-12-18            -1186.634                -64.214    1648.32   \n",
       "2006-12-19             -537.632                -10.850    1105.37   \n",
       "2006-12-20              559.554                 10.056     444.60   \n",
       "2006-12-21             -508.636                -16.832   -2307.30   \n",
       "2006-12-22              624.226                 42.740     689.44   \n",
       "2006-12-23             2432.048                 34.564   -1509.80   \n",
       "2006-12-24            -2223.374                -71.570    2233.96   \n",
       "2006-12-25              193.108                 90.380    2465.99   \n",
       "\n",
       "            Global_intensity  Sub_metering_1  Sub_metering_2  Sub_metering_3  \n",
       "DateTime                                                                      \n",
       "2006-12-16               NaN             NaN             NaN             NaN  \n",
       "2006-12-17            9217.8          2033.0          3641.0          8415.0  \n",
       "2006-12-18           -5151.4          -970.0         -1566.0           677.0  \n",
       "2006-12-19           -2153.2          -224.0          4981.0         -7821.0  \n",
       "2006-12-20            2219.0          -839.0         -4954.0          7866.0  \n",
       "2006-12-21           -2074.4          1765.0           -25.0         -3629.1  \n",
       "2006-12-22            2658.4          1386.0         -2273.0           697.1  \n",
       "2006-12-23           10303.4          -482.0            75.0          3595.0  \n",
       "2006-12-24           -9198.2          -966.0          4657.0         -7835.0  \n",
       "2006-12-25             448.0          4917.0         -3120.0         -1096.0  "
      ]
     },
     "execution_count": 29,
     "metadata": {},
     "output_type": "execute_result"
    }
   ],
   "source": [
    "df_diff.head(10)"
   ]
  },
  {
   "cell_type": "code",
   "execution_count": 30,
   "metadata": {
    "execution": {
     "iopub.execute_input": "2021-11-01T21:01:35.385740Z",
     "iopub.status.busy": "2021-11-01T21:01:35.385212Z",
     "iopub.status.idle": "2021-11-01T21:01:35.404582Z",
     "shell.execute_reply": "2021-11-01T21:01:35.403471Z",
     "shell.execute_reply.started": "2021-11-01T21:01:35.385679Z"
    }
   },
   "outputs": [],
   "source": [
    "mean_value=df_diff['Global_active_power'].mean()\n",
    "\n",
    "df_diff['Global_active_power'].fillna(value=mean_value, inplace=True)\n",
    "\n",
    "\n",
    "\n",
    "mean_value=df_diff['Global_reactive_power'].mean()\n",
    "\n",
    "df_diff['Global_reactive_power'].fillna(value=mean_value, inplace=True)\n",
    "\n",
    "\n",
    "\n",
    "\n",
    "mean_value=df_diff['Voltage'].mean()\n",
    "\n",
    "df_diff['Voltage'].fillna(value=mean_value, inplace=True)\n",
    "\n",
    "\n",
    "\n",
    "mean_value=df_diff['Global_intensity'].mean()\n",
    "\n",
    "df_diff['Global_intensity'].fillna(value=mean_value, inplace=True)\n",
    "\n",
    "\n",
    "\n",
    "mean_value=df_diff['Sub_metering_1'].mean()\n",
    "\n",
    "df_diff['Sub_metering_1'].fillna(value=mean_value, inplace=True)\n",
    "\n",
    "\n",
    "\n",
    "mean_value=df_diff['Sub_metering_2'].mean()\n",
    "\n",
    "df_diff['Sub_metering_2'].fillna(value=mean_value, inplace=True)\n",
    "\n",
    "\n",
    "\n",
    "mean_value=df_diff['Sub_metering_3'].mean()\n",
    "\n",
    "df_diff['Sub_metering_3'].fillna(value=mean_value, inplace=True)\n",
    "\n",
    "\n",
    "\n"
   ]
  },
  {
   "cell_type": "code",
   "execution_count": 31,
   "metadata": {
    "execution": {
     "iopub.execute_input": "2021-11-01T21:01:35.406623Z",
     "iopub.status.busy": "2021-11-01T21:01:35.406133Z",
     "iopub.status.idle": "2021-11-01T21:01:35.413350Z",
     "shell.execute_reply": "2021-11-01T21:01:35.411832Z",
     "shell.execute_reply.started": "2021-11-01T21:01:35.406575Z"
    }
   },
   "outputs": [
    {
     "data": {
      "text/plain": [
       "(1457, 7)"
      ]
     },
     "execution_count": 31,
     "metadata": {},
     "output_type": "execute_result"
    }
   ],
   "source": [
    "df_diff.shape"
   ]
  },
  {
   "cell_type": "code",
   "execution_count": 32,
   "metadata": {
    "execution": {
     "iopub.execute_input": "2021-11-01T21:01:35.417551Z",
     "iopub.status.busy": "2021-11-01T21:01:35.416986Z",
     "iopub.status.idle": "2021-11-01T21:01:35.446923Z",
     "shell.execute_reply": "2021-11-01T21:01:35.446109Z",
     "shell.execute_reply.started": "2021-11-01T21:01:35.417509Z"
    }
   },
   "outputs": [
    {
     "data": {
      "text/plain": [
       "Global_active_power      0\n",
       "Global_reactive_power    0\n",
       "Voltage                  0\n",
       "Global_intensity         0\n",
       "Sub_metering_1           0\n",
       "Sub_metering_2           0\n",
       "Sub_metering_3           0\n",
       "dtype: int64"
      ]
     },
     "execution_count": 32,
     "metadata": {},
     "output_type": "execute_result"
    }
   ],
   "source": [
    "df_diff.isnull().sum()"
   ]
  },
  {
   "cell_type": "code",
   "execution_count": 33,
   "metadata": {
    "execution": {
     "iopub.execute_input": "2021-11-01T21:01:35.457181Z",
     "iopub.status.busy": "2021-11-01T21:01:35.448499Z",
     "iopub.status.idle": "2021-11-01T21:01:35.988078Z",
     "shell.execute_reply": "2021-11-01T21:01:35.987353Z",
     "shell.execute_reply.started": "2021-11-01T21:01:35.457137Z"
    }
   },
   "outputs": [
    {
     "data": {
      "text/plain": [
       "Text(0, 0.5, 'Daily_Global_active_power')"
      ]
     },
     "execution_count": 33,
     "metadata": {},
     "output_type": "execute_result"
    },
    {
     "data": {
      "image/png": "[encoded data removed]",
      "text/plain": [
       "<Figure size 648x288 with 1 Axes>"
      ]
     },
     "metadata": {
      "needs_background": "light"
     },
     "output_type": "display_data"
    }
   ],
   "source": [
    "plt.figure(figsize=(9,4))\n",
    "\n",
    "plt.plot(df_diff.index, df_diff.Global_active_power )\n",
    "\n",
    "plt.xlabel('Time')\n",
    "\n",
    "plt.ylabel('Daily_Global_active_power')"
   ]
  },
  {
   "cell_type": "code",
   "execution_count": 34,
   "metadata": {
    "execution": {
     "iopub.execute_input": "2021-11-01T21:01:35.990019Z",
     "iopub.status.busy": "2021-11-01T21:01:35.989546Z",
     "iopub.status.idle": "2021-11-01T21:01:35.999083Z",
     "shell.execute_reply": "2021-11-01T21:01:35.998074Z",
     "shell.execute_reply.started": "2021-11-01T21:01:35.989982Z"
    }
   },
   "outputs": [
    {
     "data": {
      "text/plain": [
       "0.49"
      ]
     },
     "execution_count": 34,
     "metadata": {},
     "output_type": "execute_result"
    }
   ],
   "source": [
    "from scipy.stats import pearsonr\n",
    "\n",
    "corr, _ = pearsonr(df_diff.Global_active_power, df_diff.Global_reactive_power)\n",
    "\n",
    "corr = round(corr, 2)\n",
    " \n",
    "corr"
   ]
  },
  {
   "cell_type": "code",
   "execution_count": 35,
   "metadata": {
    "execution": {
     "iopub.execute_input": "2021-11-01T21:01:36.001603Z",
     "iopub.status.busy": "2021-11-01T21:01:36.000983Z",
     "iopub.status.idle": "2021-11-01T21:01:36.009656Z",
     "shell.execute_reply": "2021-11-01T21:01:36.008874Z",
     "shell.execute_reply.started": "2021-11-01T21:01:36.001563Z"
    }
   },
   "outputs": [
    {
     "data": {
      "text/plain": [
       "0.38"
      ]
     },
     "execution_count": 35,
     "metadata": {},
     "output_type": "execute_result"
    }
   ],
   "source": [
    "corr, _ = pearsonr(df_diff.Voltage, df_diff.Global_intensity)\n",
    "\n",
    "corr = round(corr, 2)\n",
    " \n",
    "corr"
   ]
  },
  {
   "cell_type": "code",
   "execution_count": 36,
   "metadata": {
    "execution": {
     "iopub.execute_input": "2021-11-01T21:01:36.012481Z",
     "iopub.status.busy": "2021-11-01T21:01:36.011716Z",
     "iopub.status.idle": "2021-11-01T21:01:36.253740Z",
     "shell.execute_reply": "2021-11-01T21:01:36.252972Z",
     "shell.execute_reply.started": "2021-11-01T21:01:36.012433Z"
    }
   },
   "outputs": [
    {
     "data": {
      "text/plain": [
       "(2075259, 9)"
      ]
     },
     "execution_count": 36,
     "metadata": {},
     "output_type": "execute_result"
    }
   ],
   "source": [
    "P_df = df.copy()\n",
    "\n",
    "P_df.shape"
   ]
  },
  {
   "cell_type": "code",
   "execution_count": 37,
   "metadata": {
    "execution": {
     "iopub.execute_input": "2021-11-01T21:01:36.255629Z",
     "iopub.status.busy": "2021-11-01T21:01:36.255323Z",
     "iopub.status.idle": "2021-11-01T21:01:37.824676Z",
     "shell.execute_reply": "2021-11-01T21:01:37.823922Z",
     "shell.execute_reply.started": "2021-11-01T21:01:36.255588Z"
    }
   },
   "outputs": [
    {
     "data": {
      "text/plain": [
       "Date                         0\n",
       "Time                         0\n",
       "Global_active_power          0\n",
       "Global_reactive_power        0\n",
       "Voltage                      0\n",
       "Global_intensity             0\n",
       "Sub_metering_1               0\n",
       "Sub_metering_2               0\n",
       "Sub_metering_3           25979\n",
       "dtype: int64"
      ]
     },
     "execution_count": 37,
     "metadata": {},
     "output_type": "execute_result"
    }
   ],
   "source": [
    "P_df.isnull().sum()"
   ]
  },
  {
   "cell_type": "code",
   "execution_count": 38,
   "metadata": {
    "execution": {
     "iopub.execute_input": "2021-11-01T21:01:37.826497Z",
     "iopub.status.busy": "2021-11-01T21:01:37.826012Z",
     "iopub.status.idle": "2021-11-01T21:01:37.839598Z",
     "shell.execute_reply": "2021-11-01T21:01:37.838799Z",
     "shell.execute_reply.started": "2021-11-01T21:01:37.826457Z"
    }
   },
   "outputs": [],
   "source": [
    "mean_value=P_df['Sub_metering_3'].mean()\n",
    "\n",
    "P_df['Sub_metering_3'].fillna(value=mean_value, inplace=True)"
   ]
  },
  {
   "cell_type": "code",
   "execution_count": 39,
   "metadata": {
    "execution": {
     "iopub.execute_input": "2021-11-01T21:01:37.841564Z",
     "iopub.status.busy": "2021-11-01T21:01:37.841294Z",
     "iopub.status.idle": "2021-11-01T21:04:56.700239Z",
     "shell.execute_reply": "2021-11-01T21:04:56.699411Z",
     "shell.execute_reply.started": "2021-11-01T21:01:37.841529Z"
    }
   },
   "outputs": [],
   "source": [
    "P_df['DateTime'] = pd.to_datetime(P_df['Date'] + ' ' + P_df['Time'])\n",
    "\n"
   ]
  },
  {
   "cell_type": "code",
   "execution_count": 40,
   "metadata": {
    "execution": {
     "iopub.execute_input": "2021-11-01T21:04:56.701838Z",
     "iopub.status.busy": "2021-11-01T21:04:56.701581Z",
     "iopub.status.idle": "2021-11-01T21:04:56.931306Z",
     "shell.execute_reply": "2021-11-01T21:04:56.930537Z",
     "shell.execute_reply.started": "2021-11-01T21:04:56.701803Z"
    }
   },
   "outputs": [],
   "source": [
    "P_df = P_df.reset_index()"
   ]
  },
  {
   "cell_type": "code",
   "execution_count": 41,
   "metadata": {
    "execution": {
     "iopub.execute_input": "2021-11-01T21:04:56.933022Z",
     "iopub.status.busy": "2021-11-01T21:04:56.932752Z",
     "iopub.status.idle": "2021-11-01T21:04:56.948799Z",
     "shell.execute_reply": "2021-11-01T21:04:56.947893Z",
     "shell.execute_reply.started": "2021-11-01T21:04:56.932987Z"
    }
   },
   "outputs": [
    {
     "data": {
      "text/html": [
       "<div>\n",
       "<style scoped>\n",
       "    .dataframe tbody tr th:only-of-type {\n",
       "        vertical-align: middle;\n",
       "    }\n",
       "\n",
       "    .dataframe tbody tr th {\n",
       "        vertical-align: top;\n",
       "    }\n",
       "\n",
       "    .dataframe thead th {\n",
       "        text-align: right;\n",
       "    }\n",
       "</style>\n",
       "<table border=\"1\" class=\"dataframe\">\n",
       "  <thead>\n",
       "    <tr style=\"text-align: right;\">\n",
       "      <th></th>\n",
       "      <th>index</th>\n",
       "      <th>Date</th>\n",
       "      <th>Time</th>\n",
       "      <th>Global_active_power</th>\n",
       "      <th>Global_reactive_power</th>\n",
       "      <th>Voltage</th>\n",
       "      <th>Global_intensity</th>\n",
       "      <th>Sub_metering_1</th>\n",
       "      <th>Sub_metering_2</th>\n",
       "      <th>Sub_metering_3</th>\n",
       "      <th>DateTime</th>\n",
       "    </tr>\n",
       "  </thead>\n",
       "  <tbody>\n",
       "    <tr>\n",
       "      <th>0</th>\n",
       "      <td>0</td>\n",
       "      <td>16/12/2006</td>\n",
       "      <td>17:24:00</td>\n",
       "      <td>4.216</td>\n",
       "      <td>0.418</td>\n",
       "      <td>234.840</td>\n",
       "      <td>18.400</td>\n",
       "      <td>0.000</td>\n",
       "      <td>1.000</td>\n",
       "      <td>17.0</td>\n",
       "      <td>2006-12-16 17:24:00</td>\n",
       "    </tr>\n",
       "    <tr>\n",
       "      <th>1</th>\n",
       "      <td>1</td>\n",
       "      <td>16/12/2006</td>\n",
       "      <td>17:25:00</td>\n",
       "      <td>5.360</td>\n",
       "      <td>0.436</td>\n",
       "      <td>233.630</td>\n",
       "      <td>23.000</td>\n",
       "      <td>0.000</td>\n",
       "      <td>1.000</td>\n",
       "      <td>16.0</td>\n",
       "      <td>2006-12-16 17:25:00</td>\n",
       "    </tr>\n",
       "    <tr>\n",
       "      <th>2</th>\n",
       "      <td>2</td>\n",
       "      <td>16/12/2006</td>\n",
       "      <td>17:26:00</td>\n",
       "      <td>5.374</td>\n",
       "      <td>0.498</td>\n",
       "      <td>233.290</td>\n",
       "      <td>23.000</td>\n",
       "      <td>0.000</td>\n",
       "      <td>2.000</td>\n",
       "      <td>17.0</td>\n",
       "      <td>2006-12-16 17:26:00</td>\n",
       "    </tr>\n",
       "    <tr>\n",
       "      <th>3</th>\n",
       "      <td>3</td>\n",
       "      <td>16/12/2006</td>\n",
       "      <td>17:27:00</td>\n",
       "      <td>5.388</td>\n",
       "      <td>0.502</td>\n",
       "      <td>233.740</td>\n",
       "      <td>23.000</td>\n",
       "      <td>0.000</td>\n",
       "      <td>1.000</td>\n",
       "      <td>17.0</td>\n",
       "      <td>2006-12-16 17:27:00</td>\n",
       "    </tr>\n",
       "    <tr>\n",
       "      <th>4</th>\n",
       "      <td>4</td>\n",
       "      <td>16/12/2006</td>\n",
       "      <td>17:28:00</td>\n",
       "      <td>3.666</td>\n",
       "      <td>0.528</td>\n",
       "      <td>235.680</td>\n",
       "      <td>15.800</td>\n",
       "      <td>0.000</td>\n",
       "      <td>1.000</td>\n",
       "      <td>17.0</td>\n",
       "      <td>2006-12-16 17:28:00</td>\n",
       "    </tr>\n",
       "  </tbody>\n",
       "</table>\n",
       "</div>"
      ],
      "text/plain": [
       "   index        Date      Time Global_active_power Global_reactive_power  \\\n",
       "0      0  16/12/2006  17:24:00               4.216                 0.418   \n",
       "1      1  16/12/2006  17:25:00               5.360                 0.436   \n",
       "2      2  16/12/2006  17:26:00               5.374                 0.498   \n",
       "3      3  16/12/2006  17:27:00               5.388                 0.502   \n",
       "4      4  16/12/2006  17:28:00               3.666                 0.528   \n",
       "\n",
       "   Voltage Global_intensity Sub_metering_1 Sub_metering_2  Sub_metering_3  \\\n",
       "0  234.840           18.400          0.000          1.000            17.0   \n",
       "1  233.630           23.000          0.000          1.000            16.0   \n",
       "2  233.290           23.000          0.000          2.000            17.0   \n",
       "3  233.740           23.000          0.000          1.000            17.0   \n",
       "4  235.680           15.800          0.000          1.000            17.0   \n",
       "\n",
       "             DateTime  \n",
       "0 2006-12-16 17:24:00  \n",
       "1 2006-12-16 17:25:00  \n",
       "2 2006-12-16 17:26:00  \n",
       "3 2006-12-16 17:27:00  \n",
       "4 2006-12-16 17:28:00  "
      ]
     },
     "execution_count": 41,
     "metadata": {},
     "output_type": "execute_result"
    }
   ],
   "source": [
    "P_df.head()"
   ]
  },
  {
   "cell_type": "code",
   "execution_count": 42,
   "metadata": {
    "execution": {
     "iopub.execute_input": "2021-11-01T21:04:56.951176Z",
     "iopub.status.busy": "2021-11-01T21:04:56.950390Z",
     "iopub.status.idle": "2021-11-01T21:04:57.158088Z",
     "shell.execute_reply": "2021-11-01T21:04:57.157353Z",
     "shell.execute_reply.started": "2021-11-01T21:04:56.951115Z"
    }
   },
   "outputs": [],
   "source": [
    "P_df = P_df.rename(columns={'DateTime':'ds', 'Global_active_power':'y'})\n"
   ]
  },
  {
   "cell_type": "code",
   "execution_count": 43,
   "metadata": {
    "execution": {
     "iopub.execute_input": "2021-11-01T21:04:57.161404Z",
     "iopub.status.busy": "2021-11-01T21:04:57.159268Z",
     "iopub.status.idle": "2021-11-01T21:04:57.176545Z",
     "shell.execute_reply": "2021-11-01T21:04:57.175821Z",
     "shell.execute_reply.started": "2021-11-01T21:04:57.161369Z"
    }
   },
   "outputs": [
    {
     "data": {
      "text/html": [
       "<div>\n",
       "<style scoped>\n",
       "    .dataframe tbody tr th:only-of-type {\n",
       "        vertical-align: middle;\n",
       "    }\n",
       "\n",
       "    .dataframe tbody tr th {\n",
       "        vertical-align: top;\n",
       "    }\n",
       "\n",
       "    .dataframe thead th {\n",
       "        text-align: right;\n",
       "    }\n",
       "</style>\n",
       "<table border=\"1\" class=\"dataframe\">\n",
       "  <thead>\n",
       "    <tr style=\"text-align: right;\">\n",
       "      <th></th>\n",
       "      <th>index</th>\n",
       "      <th>Date</th>\n",
       "      <th>Time</th>\n",
       "      <th>y</th>\n",
       "      <th>Global_reactive_power</th>\n",
       "      <th>Voltage</th>\n",
       "      <th>Global_intensity</th>\n",
       "      <th>Sub_metering_1</th>\n",
       "      <th>Sub_metering_2</th>\n",
       "      <th>Sub_metering_3</th>\n",
       "      <th>ds</th>\n",
       "    </tr>\n",
       "  </thead>\n",
       "  <tbody>\n",
       "    <tr>\n",
       "      <th>0</th>\n",
       "      <td>0</td>\n",
       "      <td>16/12/2006</td>\n",
       "      <td>17:24:00</td>\n",
       "      <td>4.216</td>\n",
       "      <td>0.418</td>\n",
       "      <td>234.840</td>\n",
       "      <td>18.400</td>\n",
       "      <td>0.000</td>\n",
       "      <td>1.000</td>\n",
       "      <td>17.0</td>\n",
       "      <td>2006-12-16 17:24:00</td>\n",
       "    </tr>\n",
       "    <tr>\n",
       "      <th>1</th>\n",
       "      <td>1</td>\n",
       "      <td>16/12/2006</td>\n",
       "      <td>17:25:00</td>\n",
       "      <td>5.360</td>\n",
       "      <td>0.436</td>\n",
       "      <td>233.630</td>\n",
       "      <td>23.000</td>\n",
       "      <td>0.000</td>\n",
       "      <td>1.000</td>\n",
       "      <td>16.0</td>\n",
       "      <td>2006-12-16 17:25:00</td>\n",
       "    </tr>\n",
       "    <tr>\n",
       "      <th>2</th>\n",
       "      <td>2</td>\n",
       "      <td>16/12/2006</td>\n",
       "      <td>17:26:00</td>\n",
       "      <td>5.374</td>\n",
       "      <td>0.498</td>\n",
       "      <td>233.290</td>\n",
       "      <td>23.000</td>\n",
       "      <td>0.000</td>\n",
       "      <td>2.000</td>\n",
       "      <td>17.0</td>\n",
       "      <td>2006-12-16 17:26:00</td>\n",
       "    </tr>\n",
       "    <tr>\n",
       "      <th>3</th>\n",
       "      <td>3</td>\n",
       "      <td>16/12/2006</td>\n",
       "      <td>17:27:00</td>\n",
       "      <td>5.388</td>\n",
       "      <td>0.502</td>\n",
       "      <td>233.740</td>\n",
       "      <td>23.000</td>\n",
       "      <td>0.000</td>\n",
       "      <td>1.000</td>\n",
       "      <td>17.0</td>\n",
       "      <td>2006-12-16 17:27:00</td>\n",
       "    </tr>\n",
       "    <tr>\n",
       "      <th>4</th>\n",
       "      <td>4</td>\n",
       "      <td>16/12/2006</td>\n",
       "      <td>17:28:00</td>\n",
       "      <td>3.666</td>\n",
       "      <td>0.528</td>\n",
       "      <td>235.680</td>\n",
       "      <td>15.800</td>\n",
       "      <td>0.000</td>\n",
       "      <td>1.000</td>\n",
       "      <td>17.0</td>\n",
       "      <td>2006-12-16 17:28:00</td>\n",
       "    </tr>\n",
       "  </tbody>\n",
       "</table>\n",
       "</div>"
      ],
      "text/plain": [
       "   index        Date      Time      y Global_reactive_power  Voltage  \\\n",
       "0      0  16/12/2006  17:24:00  4.216                 0.418  234.840   \n",
       "1      1  16/12/2006  17:25:00  5.360                 0.436  233.630   \n",
       "2      2  16/12/2006  17:26:00  5.374                 0.498  233.290   \n",
       "3      3  16/12/2006  17:27:00  5.388                 0.502  233.740   \n",
       "4      4  16/12/2006  17:28:00  3.666                 0.528  235.680   \n",
       "\n",
       "  Global_intensity Sub_metering_1 Sub_metering_2  Sub_metering_3  \\\n",
       "0           18.400          0.000          1.000            17.0   \n",
       "1           23.000          0.000          1.000            16.0   \n",
       "2           23.000          0.000          2.000            17.0   \n",
       "3           23.000          0.000          1.000            17.0   \n",
       "4           15.800          0.000          1.000            17.0   \n",
       "\n",
       "                   ds  \n",
       "0 2006-12-16 17:24:00  \n",
       "1 2006-12-16 17:25:00  \n",
       "2 2006-12-16 17:26:00  \n",
       "3 2006-12-16 17:27:00  \n",
       "4 2006-12-16 17:28:00  "
      ]
     },
     "execution_count": 43,
     "metadata": {},
     "output_type": "execute_result"
    }
   ],
   "source": [
    "P_df.head()"
   ]
  },
  {
   "cell_type": "code",
   "execution_count": 44,
   "metadata": {
    "execution": {
     "iopub.execute_input": "2021-11-01T21:04:57.178464Z",
     "iopub.status.busy": "2021-11-01T21:04:57.177826Z",
     "iopub.status.idle": "2021-11-01T21:04:58.753650Z",
     "shell.execute_reply": "2021-11-01T21:04:58.752912Z",
     "shell.execute_reply.started": "2021-11-01T21:04:57.178420Z"
    }
   },
   "outputs": [
    {
     "data": {
      "text/plain": [
       "index                    0\n",
       "Date                     0\n",
       "Time                     0\n",
       "y                        0\n",
       "Global_reactive_power    0\n",
       "Voltage                  0\n",
       "Global_intensity         0\n",
       "Sub_metering_1           0\n",
       "Sub_metering_2           0\n",
       "Sub_metering_3           0\n",
       "ds                       0\n",
       "dtype: int64"
      ]
     },
     "execution_count": 44,
     "metadata": {},
     "output_type": "execute_result"
    }
   ],
   "source": [
    "P_df.isnull().sum()"
   ]
  },
  {
   "cell_type": "code",
   "execution_count": 45,
   "metadata": {
    "execution": {
     "iopub.execute_input": "2021-11-01T21:04:58.755055Z",
     "iopub.status.busy": "2021-11-01T21:04:58.754792Z",
     "iopub.status.idle": "2021-11-01T21:04:58.773397Z",
     "shell.execute_reply": "2021-11-01T21:04:58.772703Z",
     "shell.execute_reply.started": "2021-11-01T21:04:58.755005Z"
    }
   },
   "outputs": [],
   "source": [
    "df_train = P_df[['ds', 'y']].iloc[:365]"
   ]
  },
  {
   "cell_type": "code",
   "execution_count": 46,
   "metadata": {
    "execution": {
     "iopub.execute_input": "2021-11-01T21:04:58.774919Z",
     "iopub.status.busy": "2021-11-01T21:04:58.774581Z",
     "iopub.status.idle": "2021-11-01T21:04:58.785095Z",
     "shell.execute_reply": "2021-11-01T21:04:58.784390Z",
     "shell.execute_reply.started": "2021-11-01T21:04:58.774881Z"
    }
   },
   "outputs": [
    {
     "data": {
      "text/html": [
       "<div>\n",
       "<style scoped>\n",
       "    .dataframe tbody tr th:only-of-type {\n",
       "        vertical-align: middle;\n",
       "    }\n",
       "\n",
       "    .dataframe tbody tr th {\n",
       "        vertical-align: top;\n",
       "    }\n",
       "\n",
       "    .dataframe thead th {\n",
       "        text-align: right;\n",
       "    }\n",
       "</style>\n",
       "<table border=\"1\" class=\"dataframe\">\n",
       "  <thead>\n",
       "    <tr style=\"text-align: right;\">\n",
       "      <th></th>\n",
       "      <th>ds</th>\n",
       "      <th>y</th>\n",
       "    </tr>\n",
       "  </thead>\n",
       "  <tbody>\n",
       "    <tr>\n",
       "      <th>0</th>\n",
       "      <td>2006-12-16 17:24:00</td>\n",
       "      <td>4.216</td>\n",
       "    </tr>\n",
       "    <tr>\n",
       "      <th>1</th>\n",
       "      <td>2006-12-16 17:25:00</td>\n",
       "      <td>5.360</td>\n",
       "    </tr>\n",
       "    <tr>\n",
       "      <th>2</th>\n",
       "      <td>2006-12-16 17:26:00</td>\n",
       "      <td>5.374</td>\n",
       "    </tr>\n",
       "    <tr>\n",
       "      <th>3</th>\n",
       "      <td>2006-12-16 17:27:00</td>\n",
       "      <td>5.388</td>\n",
       "    </tr>\n",
       "    <tr>\n",
       "      <th>4</th>\n",
       "      <td>2006-12-16 17:28:00</td>\n",
       "      <td>3.666</td>\n",
       "    </tr>\n",
       "  </tbody>\n",
       "</table>\n",
       "</div>"
      ],
      "text/plain": [
       "                   ds      y\n",
       "0 2006-12-16 17:24:00  4.216\n",
       "1 2006-12-16 17:25:00  5.360\n",
       "2 2006-12-16 17:26:00  5.374\n",
       "3 2006-12-16 17:27:00  5.388\n",
       "4 2006-12-16 17:28:00  3.666"
      ]
     },
     "execution_count": 46,
     "metadata": {},
     "output_type": "execute_result"
    }
   ],
   "source": [
    "df_train.head()"
   ]
  },
  {
   "cell_type": "code",
   "execution_count": 47,
   "metadata": {
    "execution": {
     "iopub.execute_input": "2021-11-01T21:04:58.787479Z",
     "iopub.status.busy": "2021-11-01T21:04:58.786465Z",
     "iopub.status.idle": "2021-11-01T21:04:58.813870Z",
     "shell.execute_reply": "2021-11-01T21:04:58.813162Z",
     "shell.execute_reply.started": "2021-11-01T21:04:58.787442Z"
    }
   },
   "outputs": [],
   "source": [
    "df_test = P_df[['ds', 'y']].iloc[-365:]"
   ]
  },
  {
   "cell_type": "code",
   "execution_count": 48,
   "metadata": {
    "execution": {
     "iopub.execute_input": "2021-11-01T21:04:58.815437Z",
     "iopub.status.busy": "2021-11-01T21:04:58.815109Z",
     "iopub.status.idle": "2021-11-01T21:04:58.825064Z",
     "shell.execute_reply": "2021-11-01T21:04:58.824194Z",
     "shell.execute_reply.started": "2021-11-01T21:04:58.815399Z"
    }
   },
   "outputs": [
    {
     "data": {
      "text/html": [
       "<div>\n",
       "<style scoped>\n",
       "    .dataframe tbody tr th:only-of-type {\n",
       "        vertical-align: middle;\n",
       "    }\n",
       "\n",
       "    .dataframe tbody tr th {\n",
       "        vertical-align: top;\n",
       "    }\n",
       "\n",
       "    .dataframe thead th {\n",
       "        text-align: right;\n",
       "    }\n",
       "</style>\n",
       "<table border=\"1\" class=\"dataframe\">\n",
       "  <thead>\n",
       "    <tr style=\"text-align: right;\">\n",
       "      <th></th>\n",
       "      <th>ds</th>\n",
       "      <th>y</th>\n",
       "    </tr>\n",
       "  </thead>\n",
       "  <tbody>\n",
       "    <tr>\n",
       "      <th>2074894</th>\n",
       "      <td>2010-11-26 14:58:00</td>\n",
       "      <td>2.254</td>\n",
       "    </tr>\n",
       "    <tr>\n",
       "      <th>2074895</th>\n",
       "      <td>2010-11-26 14:59:00</td>\n",
       "      <td>2.226</td>\n",
       "    </tr>\n",
       "    <tr>\n",
       "      <th>2074896</th>\n",
       "      <td>2010-11-26 15:00:00</td>\n",
       "      <td>2.24</td>\n",
       "    </tr>\n",
       "    <tr>\n",
       "      <th>2074897</th>\n",
       "      <td>2010-11-26 15:01:00</td>\n",
       "      <td>1.588</td>\n",
       "    </tr>\n",
       "    <tr>\n",
       "      <th>2074898</th>\n",
       "      <td>2010-11-26 15:02:00</td>\n",
       "      <td>1.452</td>\n",
       "    </tr>\n",
       "  </tbody>\n",
       "</table>\n",
       "</div>"
      ],
      "text/plain": [
       "                         ds      y\n",
       "2074894 2010-11-26 14:58:00  2.254\n",
       "2074895 2010-11-26 14:59:00  2.226\n",
       "2074896 2010-11-26 15:00:00   2.24\n",
       "2074897 2010-11-26 15:01:00  1.588\n",
       "2074898 2010-11-26 15:02:00  1.452"
      ]
     },
     "execution_count": 48,
     "metadata": {},
     "output_type": "execute_result"
    }
   ],
   "source": [
    "df_test.head()"
   ]
  },
  {
   "cell_type": "code",
   "execution_count": 49,
   "metadata": {
    "execution": {
     "iopub.execute_input": "2021-11-01T21:04:58.826751Z",
     "iopub.status.busy": "2021-11-01T21:04:58.826373Z",
     "iopub.status.idle": "2021-11-01T21:04:58.833780Z",
     "shell.execute_reply": "2021-11-01T21:04:58.832938Z",
     "shell.execute_reply.started": "2021-11-01T21:04:58.826714Z"
    }
   },
   "outputs": [
    {
     "data": {
      "text/plain": [
       "(365, 2)"
      ]
     },
     "execution_count": 49,
     "metadata": {},
     "output_type": "execute_result"
    }
   ],
   "source": [
    "df_test.shape"
   ]
  },
  {
   "cell_type": "code",
   "execution_count": 50,
   "metadata": {
    "execution": {
     "iopub.execute_input": "2021-11-01T21:04:58.835418Z",
     "iopub.status.busy": "2021-11-01T21:04:58.835103Z",
     "iopub.status.idle": "2021-11-01T21:05:00.047443Z",
     "shell.execute_reply": "2021-11-01T21:05:00.046710Z",
     "shell.execute_reply.started": "2021-11-01T21:04:58.835383Z"
    }
   },
   "outputs": [
    {
     "name": "stdout",
     "output_type": "stream",
     "text": [
      "Initial log joint probability = -6.48877\n"
     ]
    },
    {
     "data": {
      "text/plain": [
       "<fbprophet.forecaster.Prophet at 0x7faf49538e10>"
      ]
     },
     "execution_count": 50,
     "metadata": {},
     "output_type": "execute_result"
    },
    {
     "name": "stdout",
     "output_type": "stream",
     "text": [
      "    Iter      log prob        ||dx||      ||grad||       alpha      alpha0  # evals  Notes \n",
      "      77       660.786   0.000828581       66.9484   1.169e-05       0.001      135  LS failed, Hessian reset \n",
      "      99       660.833   3.65521e-05       58.5792      0.7911      0.7911      162   \n",
      "    Iter      log prob        ||dx||      ||grad||       alpha      alpha0  # evals  Notes \n",
      "     119       660.837   8.21184e-06       70.8088    1.39e-07       0.001      223  LS failed, Hessian reset \n",
      "     158       660.841   3.61511e-05       65.5925   5.762e-07       0.001      310  LS failed, Hessian reset \n",
      "     199       660.843   5.98567e-07       49.9033           1           1      373   \n",
      "    Iter      log prob        ||dx||      ||grad||       alpha      alpha0  # evals  Notes \n",
      "     283        660.98   0.000633749       68.4816     1.2e-05       0.001      519  LS failed, Hessian reset \n",
      "     299       661.011   6.24665e-05       61.3589      0.9117      0.9117      543   \n",
      "    Iter      log prob        ||dx||      ||grad||       alpha      alpha0  # evals  Notes \n",
      "     357       661.046   4.04592e-05       83.5487   6.032e-07       0.001      679  LS failed, Hessian reset \n",
      "     399       661.048   4.98788e-06        66.982           1           1      736   \n",
      "    Iter      log prob        ||dx||      ||grad||       alpha      alpha0  # evals  Notes \n",
      "     413       661.049   1.65021e-05        66.306   2.147e-07       0.001      791  LS failed, Hessian reset \n",
      "     443       661.049   4.97306e-08       72.8994       1.279      0.1279      836   \n",
      "Optimization terminated normally: \n",
      "  Convergence detected: relative gradient magnitude is below tolerance\n"
     ]
    }
   ],
   "source": [
    "model = Prophet()\n",
    "\n",
    "model.fit(df_train)"
   ]
  },
  {
   "cell_type": "code",
   "execution_count": 52,
   "metadata": {
    "execution": {
     "iopub.execute_input": "2021-11-01T21:19:27.273578Z",
     "iopub.status.busy": "2021-11-01T21:19:27.272846Z",
     "iopub.status.idle": "2021-11-01T21:19:27.277020Z",
     "shell.execute_reply": "2021-11-01T21:19:27.276063Z",
     "shell.execute_reply.started": "2021-11-01T21:19:27.273538Z"
    }
   },
   "outputs": [],
   "source": [
    "forecast = model.predict(df_test) \n",
    "\n",
    "forecast.head()"
   ]
  },
  {
   "cell_type": "code",
   "execution_count": null,
   "metadata": {
    "execution": {
     "iopub.status.busy": "2021-11-01T21:17:42.121922Z",
     "iopub.status.idle": "2021-11-01T21:17:42.122363Z",
     "shell.execute_reply": "2021-11-01T21:17:42.122154Z",
     "shell.execute_reply.started": "2021-11-01T21:17:42.122131Z"
    }
   },
   "outputs": [],
   "source": [
    "forecast[['ds', 'yhat', 'yhat_lower', 'yhat_upper', 'trend', 'trend_lower', 'trend_upper']]"
   ]
  },
  {
   "cell_type": "code",
   "execution_count": null,
   "metadata": {
    "execution": {
     "iopub.status.busy": "2021-11-01T21:17:42.123684Z",
     "iopub.status.idle": "2021-11-01T21:17:42.124122Z",
     "shell.execute_reply": "2021-11-01T21:17:42.123904Z",
     "shell.execute_reply.started": "2021-11-01T21:17:42.123882Z"
    }
   },
   "outputs": [],
   "source": [
    "model.plot(forecast)\n",
    "\n",
    "plt.show()"
   ]
  },
  {
   "cell_type": "code",
   "execution_count": null,
   "metadata": {
    "execution": {
     "iopub.status.busy": "2021-11-01T21:17:42.125382Z",
     "iopub.status.idle": "2021-11-01T21:17:42.125799Z",
     "shell.execute_reply": "2021-11-01T21:17:42.125590Z",
     "shell.execute_reply.started": "2021-11-01T21:17:42.125568Z"
    }
   },
   "outputs": [],
   "source": [
    "model.plot_components(forecast)\n",
    "\n",
    "plt.show()"
   ]
  },
  {
   "cell_type": "code",
   "execution_count": null,
   "metadata": {
    "execution": {
     "iopub.status.busy": "2021-11-01T21:17:42.126935Z",
     "iopub.status.idle": "2021-11-01T21:17:42.127879Z",
     "shell.execute_reply": "2021-11-01T21:17:42.127654Z",
     "shell.execute_reply.started": "2021-11-01T21:17:42.127629Z"
    }
   },
   "outputs": [],
   "source": [
    "from sklearn.metrics import mean_absolute_error\n",
    "\n",
    "y_pred = forecast['yhat'].values\n",
    "y_true = df_test['y'].values\n",
    "\n",
    "mae = mean_absolute_error(y_true, y_pred)\n",
    "\n",
    "print('MAE: %.2f' % mae)"
   ]
  },
  {
   "cell_type": "code",
   "execution_count": null,
   "metadata": {
    "execution": {
     "iopub.status.busy": "2021-11-01T21:17:42.129197Z",
     "iopub.status.idle": "2021-11-01T21:17:42.129608Z",
     "shell.execute_reply": "2021-11-01T21:17:42.129407Z",
     "shell.execute_reply.started": "2021-11-01T21:17:42.129384Z"
    }
   },
   "outputs": [],
   "source": [
    "def mape(y_true, y_pred): \n",
    "    \n",
    "    y_true, y_pred = np.array(y_true), np.array(y_pred)\n",
    "    \n",
    "    return np.mean(np.abs((y_true - y_pred) / y_true)) * 100"
   ]
  },
  {
   "cell_type": "code",
   "execution_count": null,
   "metadata": {
    "execution": {
     "iopub.status.busy": "2021-11-01T21:17:42.130894Z",
     "iopub.status.idle": "2021-11-01T21:17:42.131327Z",
     "shell.execute_reply": "2021-11-01T21:17:42.131121Z",
     "shell.execute_reply.started": "2021-11-01T21:17:42.131097Z"
    }
   },
   "outputs": [],
   "source": [
    "mape(y_true, y_pred)"
   ]
  },
  {
   "cell_type": "code",
   "execution_count": null,
   "metadata": {
    "execution": {
     "iopub.status.busy": "2021-11-01T21:17:42.132581Z",
     "iopub.status.idle": "2021-11-01T21:17:42.133004Z",
     "shell.execute_reply": "2021-11-01T21:17:42.132801Z",
     "shell.execute_reply.started": "2021-11-01T21:17:42.132778Z"
    }
   },
   "outputs": [],
   "source": [
    "import math \n",
    "\n",
    "mse = np.square(np.subtract(y_true, y_pred))\n",
    "\n",
    "RMSE = math.sqrt(mse)"
   ]
  }
 ],
 "metadata": {
  "kernelspec": {
   "display_name": "Python 3",
   "language": "python",
   "name": "python3"
  },
  "language_info": {
   "codemirror_mode": {
    "name": "ipython",
    "version": 3
   },
   "file_extension": ".py",
   "mimetype": "text/x-python",
   "name": "python",
   "nbconvert_exporter": "python",
   "pygments_lexer": "ipython3",
   "version": "3.7.6"
  }
 },
 "nbformat": 4,
 "nbformat_minor": 4
}
